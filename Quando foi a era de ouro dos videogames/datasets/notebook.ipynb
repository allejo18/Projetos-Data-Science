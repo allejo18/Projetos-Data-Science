{
 "cells": [
  {
   "cell_type": "markdown",
   "metadata": {},
   "source": [
    "## 1. Os dez videogames mais vendidos\n",
    "<p><img src=\"https://assets.datacamp.com/production/project_1413/img/video_game.jpg\" alt=\"A video game player choosing a game to play on Nintendo Switch.\" width=\"400\"></p>\n",
    "<p>\n",
    "\n",
    "\n",
    "Os videogames são um grande negócio: o mercado global de jogos está projetado para valer mais de US$ 300 bilhões até 2027, de acordo com <a href=\"https://www.mordorintelligence.com/industry-reports/global-gaming-market\">Mordor Inteligência</a>. Com tanto dinheiro em jogo, os principais editores de jogos são extremamente incentivados a criar o próximo grande sucesso. Mas os jogos estão melhorando ou a era de ouro dos videogames já passou?</p>\n",
    "<p>Neste projeto, exploraremos os 400 videogames mais vendidos criados entre 1977 e 2020. Compararemos um conjunto de dados sobre vendas de jogos com análises de críticos e usuários para determinar se os videogames melhoraram ou não conforme o mercado de jogos cresceu.</p>\n",
    "<p>Nosso banco de dados contém duas tabelas. Limitamos cada tabela a 400 linhas para este projeto, mas você pode encontrar o conjunto de dados completo com mais de 13.000 jogos em <a href=\"https://www.kaggle.com/holmjason2/videogamedata\">Kaggle</a>. </p>\n",
    "<h3 id=\"game_sales\"><code>game_sales</code></h3>\n",
    "<table>\n",
    "<thead>\n",
    "<tr>\n",
    "<th style=\"text-align:left;\">column</th>\n",
    "<th>type</th>\n",
    "<th>meaning</th>\n",
    "</tr>\n",
    "</thead>\n",
    "<tbody>\n",
    "<tr>\n",
    "<td style=\"text-align:left;\"><code>game</code></td>\n",
    "<td>varchar</td>\n",
    "<td>Name of the video game</td>\n",
    "</tr>\n",
    "<tr>\n",
    "<td style=\"text-align:left;\"><code>platform</code></td>\n",
    "<td>varchar</td>\n",
    "<td>Gaming platform</td>\n",
    "</tr>\n",
    "<tr>\n",
    "<td style=\"text-align:left;\"><code>publisher</code></td>\n",
    "<td>varchar</td>\n",
    "<td>Game publisher</td>\n",
    "</tr>\n",
    "<tr>\n",
    "<td style=\"text-align:left;\"><code>developer</code></td>\n",
    "<td>varchar</td>\n",
    "<td>Game developer</td>\n",
    "</tr>\n",
    "<tr>\n",
    "<td style=\"text-align:left;\"><code>games_sold</code></td>\n",
    "<td>float</td>\n",
    "<td>Number of copies sold (millions)</td>\n",
    "</tr>\n",
    "<tr>\n",
    "<td style=\"text-align:left;\"><code>year</code></td>\n",
    "<td>int</td>\n",
    "<td>Release year</td>\n",
    "</tr>\n",
    "</tbody>\n",
    "</table>\n",
    "<h3 id=\"reviews\"><code>reviews</code></h3>\n",
    "<table>\n",
    "<thead>\n",
    "<tr>\n",
    "<th style=\"text-align:left;\">column</th>\n",
    "<th>type</th>\n",
    "<th>meaning</th>\n",
    "</tr>\n",
    "</thead>\n",
    "<tbody>\n",
    "<tr>\n",
    "<td style=\"text-align:left;\"><code>game</code></td>\n",
    "<td>varchar</td>\n",
    "<td>Name of the video game</td>\n",
    "</tr>\n",
    "<tr>\n",
    "<td style=\"text-align:left;\"><code>critic_score</code></td>\n",
    "<td>float</td>\n",
    "<td>Critic score according to Metacritic</td>\n",
    "</tr>\n",
    "<tr>\n",
    "<td style=\"text-align:left;\"><code>user_score</code></td>\n",
    "<td>float</td>\n",
    "<td>User score according to Metacritic</td>\n",
    "</tr>\n",
    "</tbody>\n",
    "</table>\n",
    "<p>Vamos começar analisando alguns dos videogames mais vendidos de todos os tempos!</p>"
   ]
  },
  {
   "cell_type": "code",
   "execution_count": 79,
   "metadata": {
    "dc": {
     "key": "7"
    },
    "tags": [
     "sample_code"
    ]
   },
   "outputs": [
    {
     "name": "stdout",
     "output_type": "stream",
     "text": [
      "10 rows affected.\n"
     ]
    },
    {
     "data": {
      "text/html": [
       "<table>\n",
       "    <thead>\n",
       "        <tr>\n",
       "            <th>game</th>\n",
       "            <th>platform</th>\n",
       "            <th>publisher</th>\n",
       "            <th>developer</th>\n",
       "            <th>games_sold</th>\n",
       "            <th>year</th>\n",
       "        </tr>\n",
       "    </thead>\n",
       "    <tbody>\n",
       "        <tr>\n",
       "            <td>Wii Sports for Wii</td>\n",
       "            <td>Wii</td>\n",
       "            <td>Nintendo</td>\n",
       "            <td>Nintendo EAD</td>\n",
       "            <td>82.90</td>\n",
       "            <td>2006</td>\n",
       "        </tr>\n",
       "        <tr>\n",
       "            <td>Super Mario Bros. for NES</td>\n",
       "            <td>NES</td>\n",
       "            <td>Nintendo</td>\n",
       "            <td>Nintendo EAD</td>\n",
       "            <td>40.24</td>\n",
       "            <td>1985</td>\n",
       "        </tr>\n",
       "        <tr>\n",
       "            <td>Counter-Strike: Global Offensive for PC</td>\n",
       "            <td>PC</td>\n",
       "            <td>Valve</td>\n",
       "            <td>Valve Corporation</td>\n",
       "            <td>40.00</td>\n",
       "            <td>2012</td>\n",
       "        </tr>\n",
       "        <tr>\n",
       "            <td>Mario Kart Wii for Wii</td>\n",
       "            <td>Wii</td>\n",
       "            <td>Nintendo</td>\n",
       "            <td>Nintendo EAD</td>\n",
       "            <td>37.32</td>\n",
       "            <td>2008</td>\n",
       "        </tr>\n",
       "        <tr>\n",
       "            <td>PLAYERUNKNOWN&#x27;S BATTLEGROUNDS for PC</td>\n",
       "            <td>PC</td>\n",
       "            <td>PUBG Corporation</td>\n",
       "            <td>PUBG Corporation</td>\n",
       "            <td>36.60</td>\n",
       "            <td>2017</td>\n",
       "        </tr>\n",
       "        <tr>\n",
       "            <td>Minecraft for PC</td>\n",
       "            <td>PC</td>\n",
       "            <td>Mojang</td>\n",
       "            <td>Mojang AB</td>\n",
       "            <td>33.15</td>\n",
       "            <td>2010</td>\n",
       "        </tr>\n",
       "        <tr>\n",
       "            <td>Wii Sports Resort for Wii</td>\n",
       "            <td>Wii</td>\n",
       "            <td>Nintendo</td>\n",
       "            <td>Nintendo EAD</td>\n",
       "            <td>33.13</td>\n",
       "            <td>2009</td>\n",
       "        </tr>\n",
       "        <tr>\n",
       "            <td>Pokemon Red / Green / Blue Version for GB</td>\n",
       "            <td>GB</td>\n",
       "            <td>Nintendo</td>\n",
       "            <td>Game Freak</td>\n",
       "            <td>31.38</td>\n",
       "            <td>1998</td>\n",
       "        </tr>\n",
       "        <tr>\n",
       "            <td>New Super Mario Bros. for DS</td>\n",
       "            <td>DS</td>\n",
       "            <td>Nintendo</td>\n",
       "            <td>Nintendo EAD</td>\n",
       "            <td>30.80</td>\n",
       "            <td>2006</td>\n",
       "        </tr>\n",
       "        <tr>\n",
       "            <td>New Super Mario Bros. Wii for Wii</td>\n",
       "            <td>Wii</td>\n",
       "            <td>Nintendo</td>\n",
       "            <td>Nintendo EAD</td>\n",
       "            <td>30.30</td>\n",
       "            <td>2009</td>\n",
       "        </tr>\n",
       "    </tbody>\n",
       "</table>"
      ],
      "text/plain": [
       "[('Wii Sports for Wii', 'Wii', 'Nintendo', 'Nintendo EAD', Decimal('82.90'), 2006),\n",
       " ('Super Mario Bros. for NES', 'NES', 'Nintendo', 'Nintendo EAD', Decimal('40.24'), 1985),\n",
       " ('Counter-Strike: Global Offensive for PC', 'PC', 'Valve', 'Valve Corporation', Decimal('40.00'), 2012),\n",
       " ('Mario Kart Wii for Wii', 'Wii', 'Nintendo', 'Nintendo EAD', Decimal('37.32'), 2008),\n",
       " (\"PLAYERUNKNOWN'S BATTLEGROUNDS for PC\", 'PC', 'PUBG Corporation', 'PUBG Corporation', Decimal('36.60'), 2017),\n",
       " ('Minecraft for PC', 'PC', 'Mojang', 'Mojang AB', Decimal('33.15'), 2010),\n",
       " ('Wii Sports Resort for Wii', 'Wii', 'Nintendo', 'Nintendo EAD', Decimal('33.13'), 2009),\n",
       " ('Pokemon Red / Green / Blue Version for GB', 'GB', 'Nintendo', 'Game Freak', Decimal('31.38'), 1998),\n",
       " ('New Super Mario Bros. for DS', 'DS', 'Nintendo', 'Nintendo EAD', Decimal('30.80'), 2006),\n",
       " ('New Super Mario Bros. Wii for Wii', 'Wii', 'Nintendo', 'Nintendo EAD', Decimal('30.30'), 2009)]"
      ]
     },
     "execution_count": 79,
     "metadata": {},
     "output_type": "execute_result"
    }
   ],
   "source": [
    "%%sql \n",
    "postgresql:///games\n",
    "    \n",
    "-- Select all information for the top ten best-selling games\n",
    "-- Order the results from best-selling game down to tenth best-selling\n",
    "SELECT *\n",
    "    FROM game_sales\n",
    "    ORDER BY games_sold DESC\n",
    "    LIMIT 10;"
   ]
  },
  {
   "cell_type": "markdown",
   "metadata": {},
   "source": [
    "## 2. Pontuações de revisão ausentes\n",
    "<p>Uau, os videogames mais vendidos foram lançados entre 1985 e 2017! Isso é um intervalo e tanto; teremos que usar os dados da tabela <code>reviews</code> para obter mais informações sobre os melhores anos para videogames. </p>\n",
    "<p>Primeiro, é importante explorar as limitações de nosso banco de dados. Uma grande falha é que não há dados de <code>reviews</code> para alguns dos jogos na tabela <code>game_sales</code>. </p>"
   ]
  },
  {
   "cell_type": "code",
   "execution_count": 81,
   "metadata": {
    "dc": {
     "key": "14"
    },
    "tags": [
     "sample_code"
    ]
   },
   "outputs": [
    {
     "name": "stdout",
     "output_type": "stream",
     "text": [
      " * postgresql:///games\n",
      "1 rows affected.\n"
     ]
    },
    {
     "data": {
      "text/html": [
       "<table>\n",
       "    <thead>\n",
       "        <tr>\n",
       "            <th>count</th>\n",
       "        </tr>\n",
       "    </thead>\n",
       "    <tbody>\n",
       "        <tr>\n",
       "            <td>31</td>\n",
       "        </tr>\n",
       "    </tbody>\n",
       "</table>"
      ],
      "text/plain": [
       "[(31,)]"
      ]
     },
     "execution_count": 81,
     "metadata": {},
     "output_type": "execute_result"
    }
   ],
   "source": [
    "%%sql\n",
    "\n",
    "-- Join games_sales and reviews\n",
    "-- Count the number of games where both critic_score and user_score are null\n",
    "SELECT COUNT(g.game)\n",
    "FROM game_sales g\n",
    "LEFT JOIN reviews r\n",
    "ON g.game = r.game\n",
    "WHERE critic_score IS NULL AND user_score IS NULL;"
   ]
  },
  {
   "cell_type": "markdown",
   "metadata": {},
   "source": [
    "## 3. Anos que os críticos de videogame adoravam\n",
    "<p>Parece que um pouco menos de dez por cento dos jogos na tabela <code>game_sales</code> não tem nenhum dado de avaliação. Essa é uma porcentagem pequena o suficiente para que possamos continuar nossa exploração, mas é bom ter em mente os dados de revisões ausentes à medida que passamos a avaliar os resultados de consultas mais sofisticadas. </p>\n",
    "<p>Existem várias maneiras de medir os melhores anos para videogames! Vamos começar com o que os críticos pensam. </p>"
   ]
  },
  {
   "cell_type": "code",
   "execution_count": 83,
   "metadata": {
    "dc": {
     "key": "21"
    },
    "tags": [
     "sample_code"
    ]
   },
   "outputs": [
    {
     "name": "stdout",
     "output_type": "stream",
     "text": [
      " * postgresql:///games\n",
      "10 rows affected.\n"
     ]
    },
    {
     "data": {
      "text/html": [
       "<table>\n",
       "    <thead>\n",
       "        <tr>\n",
       "            <th>year</th>\n",
       "            <th>avg_critic_score</th>\n",
       "        </tr>\n",
       "    </thead>\n",
       "    <tbody>\n",
       "        <tr>\n",
       "            <td>1990</td>\n",
       "            <td>9.80</td>\n",
       "        </tr>\n",
       "        <tr>\n",
       "            <td>1992</td>\n",
       "            <td>9.67</td>\n",
       "        </tr>\n",
       "        <tr>\n",
       "            <td>1998</td>\n",
       "            <td>9.32</td>\n",
       "        </tr>\n",
       "        <tr>\n",
       "            <td>2020</td>\n",
       "            <td>9.20</td>\n",
       "        </tr>\n",
       "        <tr>\n",
       "            <td>1993</td>\n",
       "            <td>9.10</td>\n",
       "        </tr>\n",
       "        <tr>\n",
       "            <td>1995</td>\n",
       "            <td>9.07</td>\n",
       "        </tr>\n",
       "        <tr>\n",
       "            <td>2004</td>\n",
       "            <td>9.03</td>\n",
       "        </tr>\n",
       "        <tr>\n",
       "            <td>1982</td>\n",
       "            <td>9.00</td>\n",
       "        </tr>\n",
       "        <tr>\n",
       "            <td>2002</td>\n",
       "            <td>8.99</td>\n",
       "        </tr>\n",
       "        <tr>\n",
       "            <td>1999</td>\n",
       "            <td>8.93</td>\n",
       "        </tr>\n",
       "    </tbody>\n",
       "</table>"
      ],
      "text/plain": [
       "[(1990, Decimal('9.80')),\n",
       " (1992, Decimal('9.67')),\n",
       " (1998, Decimal('9.32')),\n",
       " (2020, Decimal('9.20')),\n",
       " (1993, Decimal('9.10')),\n",
       " (1995, Decimal('9.07')),\n",
       " (2004, Decimal('9.03')),\n",
       " (1982, Decimal('9.00')),\n",
       " (2002, Decimal('8.99')),\n",
       " (1999, Decimal('8.93'))]"
      ]
     },
     "execution_count": 83,
     "metadata": {},
     "output_type": "execute_result"
    }
   ],
   "source": [
    "%%sql\n",
    "\n",
    "-- Select release year and average critic score for each year, rounded and aliased\n",
    "-- Join the game_sales and reviews tables\n",
    "-- Group by release year\n",
    "-- Order the data from highest to lowest avg_critic_score and limit to 10 results\n",
    "SELECT g.year, ROUND(AVG(r.critic_score),2) AS avg_critic_score\n",
    "FROM game_sales g\n",
    "INNER JOIN reviews r\n",
    "ON g.game = r.game\n",
    "GROUP BY g.year\n",
    "ORDER BY avg_critic_score DESC\n",
    "LIMIT 10;"
   ]
  },
  {
   "cell_type": "markdown",
   "metadata": {},
   "source": [
    "## 4. 1982 foi realmente tão bom assim?\n",
    "<p>O intervalo de grandes anos de acordo com as críticas vai de 1982 a 2020: não estamos mais perto de encontrar a era de ouro dos videogames! </p>\n",
    "<p>Aguente firme. Alguns desses valores <code>avg_critic_score</code> parecem números arredondados suspeitos para médias. O valor para 1982 parece especialmente duvidoso. Talvez não houvesse muitos videogames em nosso conjunto de dados lançados em determinados anos. </p>\n",
    "<p>Vamos atualizar nossa consulta e descobrir se 1982 foi realmente um ano tão bom para os videogames.</p>"
   ]
  },
  {
   "cell_type": "code",
   "execution_count": 85,
   "metadata": {
    "dc": {
     "key": "28"
    },
    "tags": [
     "sample_code"
    ]
   },
   "outputs": [
    {
     "name": "stdout",
     "output_type": "stream",
     "text": [
      " * postgresql:///games\n",
      "10 rows affected.\n"
     ]
    },
    {
     "data": {
      "text/html": [
       "<table>\n",
       "    <thead>\n",
       "        <tr>\n",
       "            <th>year</th>\n",
       "            <th>num_games</th>\n",
       "            <th>avg_critic_score</th>\n",
       "        </tr>\n",
       "    </thead>\n",
       "    <tbody>\n",
       "        <tr>\n",
       "            <td>1998</td>\n",
       "            <td>10</td>\n",
       "            <td>9.32</td>\n",
       "        </tr>\n",
       "        <tr>\n",
       "            <td>2004</td>\n",
       "            <td>11</td>\n",
       "            <td>9.03</td>\n",
       "        </tr>\n",
       "        <tr>\n",
       "            <td>2002</td>\n",
       "            <td>9</td>\n",
       "            <td>8.99</td>\n",
       "        </tr>\n",
       "        <tr>\n",
       "            <td>1999</td>\n",
       "            <td>11</td>\n",
       "            <td>8.93</td>\n",
       "        </tr>\n",
       "        <tr>\n",
       "            <td>2001</td>\n",
       "            <td>13</td>\n",
       "            <td>8.82</td>\n",
       "        </tr>\n",
       "        <tr>\n",
       "            <td>2011</td>\n",
       "            <td>26</td>\n",
       "            <td>8.76</td>\n",
       "        </tr>\n",
       "        <tr>\n",
       "            <td>2016</td>\n",
       "            <td>13</td>\n",
       "            <td>8.67</td>\n",
       "        </tr>\n",
       "        <tr>\n",
       "            <td>2013</td>\n",
       "            <td>18</td>\n",
       "            <td>8.66</td>\n",
       "        </tr>\n",
       "        <tr>\n",
       "            <td>2008</td>\n",
       "            <td>20</td>\n",
       "            <td>8.63</td>\n",
       "        </tr>\n",
       "        <tr>\n",
       "            <td>2012</td>\n",
       "            <td>12</td>\n",
       "            <td>8.62</td>\n",
       "        </tr>\n",
       "    </tbody>\n",
       "</table>"
      ],
      "text/plain": [
       "[(1998, 10, Decimal('9.32')),\n",
       " (2004, 11, Decimal('9.03')),\n",
       " (2002, 9, Decimal('8.99')),\n",
       " (1999, 11, Decimal('8.93')),\n",
       " (2001, 13, Decimal('8.82')),\n",
       " (2011, 26, Decimal('8.76')),\n",
       " (2016, 13, Decimal('8.67')),\n",
       " (2013, 18, Decimal('8.66')),\n",
       " (2008, 20, Decimal('8.63')),\n",
       " (2012, 12, Decimal('8.62'))]"
      ]
     },
     "execution_count": 85,
     "metadata": {},
     "output_type": "execute_result"
    }
   ],
   "source": [
    "%%sql\n",
    "\n",
    "-- Paste your query from the previous task; update it to add a count of games released in each year called num_games\n",
    "-- Update the query so that it only returns years that have more than four reviewed games\n",
    "SELECT g.year, COUNT(g.game) AS num_games, ROUND(AVG(r.critic_score),2) AS avg_critic_score\n",
    "FROM game_sales g\n",
    "INNER JOIN reviews r\n",
    "ON g.game = r.game\n",
    "GROUP BY g.year\n",
    "HAVING COUNT(g.game) > 4\n",
    "ORDER BY avg_critic_score DESC\n",
    "LIMIT 10;"
   ]
  },
  {
   "cell_type": "markdown",
   "metadata": {},
   "source": [
    "## 5. Anos que caíram na lista de favoritos da crítica\n",
    "<p>Assim fica melhor! A coluna <code>num_games</code> nos convence de que nossa nova lista dos melhores jogos da crítica reflete anos que tiveram alguns jogos bem avaliados, em vez de apenas um ou dois sucessos. Mas quais anos saíram da lista por terem quatro ou menos jogos revisados? Vamos identificá-los para que algum dia possamos rastrear mais análises de jogos desses anos e determinar se eles podem ser considerados anos excelentes para lançamentos de videogames!</p>\n",
    "<p>É hora de jogar fora suas habilidades de teoria de conjuntos. Para começar, criamos tabelas com os resultados de nossas duas consultas anteriores:</p>\n",
    "<p>É hora de jogar fora suas habilidades de teoria de conjuntos. Para começar, criamos tabelas com os resultados de nossas duas consultas anteriores:</p>\n",
    "<h3 id=\"top_critic_years\"><code>top_critic_years</code></h3>\n",
    "<table>\n",
    "<thead>\n",
    "<tr>\n",
    "<th style=\"text-align:left;\">column</th>\n",
    "<th>type</th>\n",
    "<th>meaning</th>\n",
    "</tr>\n",
    "</thead>\n",
    "<tbody>\n",
    "<tr>\n",
    "<td style=\"text-align:left;\"><code>year</code></td>\n",
    "<td>int</td>\n",
    "<td>Year of video game release</td>\n",
    "</tr>\n",
    "<tr>\n",
    "<td style=\"text-align:left;\"><code>avg_critic_score</code></td>\n",
    "<td>float</td>\n",
    "<td>Average of all critic scores for games released in that year</td>\n",
    "</tr>\n",
    "</tbody>\n",
    "</table>\n",
    "<h3 id=\"top_critic_years_more_than_four_games\"><code>top_critic_years_more_than_four_games</code></h3>\n",
    "<table>\n",
    "<thead>\n",
    "<tr>\n",
    "<th style=\"text-align:left;\">column</th>\n",
    "<th>type</th>\n",
    "<th>meaning</th>\n",
    "</tr>\n",
    "</thead>\n",
    "<tbody>\n",
    "<tr>\n",
    "<td style=\"text-align:left;\"><code>year</code></td>\n",
    "<td>int</td>\n",
    "<td>Year of video game release</td>\n",
    "</tr>\n",
    "<tr>\n",
    "<td style=\"text-align:left;\"><code>num_games</code></td>\n",
    "<td>int</td>\n",
    "<td>Count of the number of video games released in that year</td>\n",
    "</tr>\n",
    "<tr>\n",
    "<td style=\"text-align:left;\"><code>avg_critic_score</code></td>\n",
    "<td>float</td>\n",
    "<td>Average of all critic scores for games released in that year</td>\n",
    "</tr>\n",
    "</tbody>\n",
    "</table>\n",
    "\n",
    "\n",
    "\n",
    "\n",
    "\n"
   ]
  },
  {
   "cell_type": "code",
   "execution_count": 87,
   "metadata": {
    "dc": {
     "key": "35"
    },
    "tags": [
     "sample_code"
    ]
   },
   "outputs": [
    {
     "name": "stdout",
     "output_type": "stream",
     "text": [
      " * postgresql:///games\n",
      "6 rows affected.\n"
     ]
    },
    {
     "data": {
      "text/html": [
       "<table>\n",
       "    <thead>\n",
       "        <tr>\n",
       "            <th>year</th>\n",
       "            <th>avg_critic_score</th>\n",
       "        </tr>\n",
       "    </thead>\n",
       "    <tbody>\n",
       "        <tr>\n",
       "            <td>1990</td>\n",
       "            <td>9.80</td>\n",
       "        </tr>\n",
       "        <tr>\n",
       "            <td>1992</td>\n",
       "            <td>9.67</td>\n",
       "        </tr>\n",
       "        <tr>\n",
       "            <td>2020</td>\n",
       "            <td>9.20</td>\n",
       "        </tr>\n",
       "        <tr>\n",
       "            <td>1993</td>\n",
       "            <td>9.10</td>\n",
       "        </tr>\n",
       "        <tr>\n",
       "            <td>1995</td>\n",
       "            <td>9.07</td>\n",
       "        </tr>\n",
       "        <tr>\n",
       "            <td>1982</td>\n",
       "            <td>9.00</td>\n",
       "        </tr>\n",
       "    </tbody>\n",
       "</table>"
      ],
      "text/plain": [
       "[(1990, Decimal('9.80')),\n",
       " (1992, Decimal('9.67')),\n",
       " (2020, Decimal('9.20')),\n",
       " (1993, Decimal('9.10')),\n",
       " (1995, Decimal('9.07')),\n",
       " (1982, Decimal('9.00'))]"
      ]
     },
     "execution_count": 87,
     "metadata": {},
     "output_type": "execute_result"
    }
   ],
   "source": [
    "%%sql \n",
    "\n",
    "-- Select the year and avg_critic_score for those years that dropped off the critics' favorites list\n",
    "-- Order the results from highest to lowest avg_critic_score\n",
    "SELECT year, avg_critic_score\n",
    "FROM top_critic_years\n",
    "EXCEPT\n",
    "SELECT year, avg_critic_score\n",
    "FROM top_critic_years_more_than_four_games\n",
    "ORDER BY avg_critic_score DESC;"
   ]
  },
  {
   "cell_type": "markdown",
   "metadata": {},
   "source": [
    "## 6. Anos que os jogadores de videogame adoram\n",
    "<p>Com base em nosso trabalho na tarefa acima, parece que o início dos anos 1990 pode merecer consideração como a era de ouro dos videogames baseados apenas em <code>critic_score</code>, mas precisaríamos reunir mais jogos e revisa os dados para fazer uma análise mais aprofundada. </p>\n",
    "<p>Vamos ver a opinião de outro importante grupo de pessoas: os jogadores! Para começar, vamos criar uma consulta muito semelhante à que usamos na Tarefa Quatro, exceto que esta examinará as médias de <code>user_score</code> por ano, em vez das médias de <code>critic_score</code>.</p >"
   ]
  },
  {
   "cell_type": "code",
   "execution_count": 89,
   "metadata": {
    "dc": {
     "key": "42"
    },
    "tags": [
     "sample_code"
    ]
   },
   "outputs": [
    {
     "name": "stdout",
     "output_type": "stream",
     "text": [
      " * postgresql:///games\n",
      "10 rows affected.\n"
     ]
    },
    {
     "data": {
      "text/html": [
       "<table>\n",
       "    <thead>\n",
       "        <tr>\n",
       "            <th>year</th>\n",
       "            <th>num_games</th>\n",
       "            <th>avg_user_score</th>\n",
       "        </tr>\n",
       "    </thead>\n",
       "    <tbody>\n",
       "        <tr>\n",
       "            <td>1997</td>\n",
       "            <td>8</td>\n",
       "            <td>9.50</td>\n",
       "        </tr>\n",
       "        <tr>\n",
       "            <td>1998</td>\n",
       "            <td>10</td>\n",
       "            <td>9.40</td>\n",
       "        </tr>\n",
       "        <tr>\n",
       "            <td>2010</td>\n",
       "            <td>23</td>\n",
       "            <td>9.24</td>\n",
       "        </tr>\n",
       "        <tr>\n",
       "            <td>2009</td>\n",
       "            <td>20</td>\n",
       "            <td>9.18</td>\n",
       "        </tr>\n",
       "        <tr>\n",
       "            <td>2008</td>\n",
       "            <td>20</td>\n",
       "            <td>9.03</td>\n",
       "        </tr>\n",
       "        <tr>\n",
       "            <td>1996</td>\n",
       "            <td>5</td>\n",
       "            <td>9.00</td>\n",
       "        </tr>\n",
       "        <tr>\n",
       "            <td>2005</td>\n",
       "            <td>13</td>\n",
       "            <td>8.95</td>\n",
       "        </tr>\n",
       "        <tr>\n",
       "            <td>2006</td>\n",
       "            <td>16</td>\n",
       "            <td>8.95</td>\n",
       "        </tr>\n",
       "        <tr>\n",
       "            <td>2000</td>\n",
       "            <td>8</td>\n",
       "            <td>8.80</td>\n",
       "        </tr>\n",
       "        <tr>\n",
       "            <td>1999</td>\n",
       "            <td>11</td>\n",
       "            <td>8.80</td>\n",
       "        </tr>\n",
       "    </tbody>\n",
       "</table>"
      ],
      "text/plain": [
       "[(1997, 8, Decimal('9.50')),\n",
       " (1998, 10, Decimal('9.40')),\n",
       " (2010, 23, Decimal('9.24')),\n",
       " (2009, 20, Decimal('9.18')),\n",
       " (2008, 20, Decimal('9.03')),\n",
       " (1996, 5, Decimal('9.00')),\n",
       " (2005, 13, Decimal('8.95')),\n",
       " (2006, 16, Decimal('8.95')),\n",
       " (2000, 8, Decimal('8.80')),\n",
       " (1999, 11, Decimal('8.80'))]"
      ]
     },
     "execution_count": 89,
     "metadata": {},
     "output_type": "execute_result"
    }
   ],
   "source": [
    "%%sql\n",
    "\n",
    "-- Select year, an average of user_score, and a count of games released in a given year, aliased and rounded\n",
    "-- Include only years with more than four reviewed games; group data by year\n",
    "-- Order data by avg_user_score, and limit to ten results\n",
    "SELECT g.year, COUNT(g.game) AS num_games, ROUND(AVG(r.user_score),2) AS avg_user_score\n",
    "FROM game_sales g\n",
    "INNER JOIN reviews r\n",
    "ON g.game = r.game\n",
    "GROUP BY g.year\n",
    "HAVING COUNT(g.game) > 4\n",
    "ORDER BY avg_user_score DESC\n",
    "LIMIT 10;"
   ]
  },
  {
   "cell_type": "markdown",
   "metadata": {},
   "source": [
    "## 7. Anos que jogadores e críticos adoraram\n",
    "<p>Tudo bem, temos uma lista dos dez melhores anos de acordo com as críticas e avaliações dos usuários. Há algum ano que apareceu em ambas as tabelas? Se assim fosse, certamente seriam anos excelentes!</p>\n",
    "<p>Lembre-se de que temos acesso à tabela <code>top_critic_years_more_than_four_games</code>, que armazena os resultados de nossa consulta de anos críticos principais da Tarefa 4:</p>\n",
    "<h3 id=\"top_critic_years_more_than_four_games\"><code>top_critic_years_more_than_four_games</code></h3>\n",
    "<tabela>\n",
    "<thead>\n",
    "<tr>\n",
    "<th style=\"text-align:left;\">coluna</th>\n",
    "<th>tipo</th>\n",
    "<th>significado</th>\n",
    "</tr>\n",
    "</thead>\n",
    "<corpo>\n",
    "<tr>\n",
    "<td style=\"text-align:left;\"><code>ano</code></td>\n",
    "<td>int</td>\n",
    "<td>Ano de lançamento do videogame</td>\n",
    "</tr>\n",
    "<tr>\n",
    "<td style=\"text-align:left;\"><code>num_games</code></td>\n",
    "<td>int</td>\n",
    "<td>Contagem do número de videogames lançados naquele ano</td>\n",
    "</tr>\n",
    "<tr>\n",
    "<td style=\"text-align:left;\"><code>avg_critic_score</code></td>\n",
    "<td>flutua</td>\n",
    "<td>Média de todas as pontuações da crítica para jogos lançados naquele ano</td>\n",
    "</tr>\n",
    "</tbody>\n",
    "</table>\n",
    "<p>Também salvamos os resultados de nossa consulta de anos de usuários principais da tarefa anterior em uma tabela:</p>\n",
    "<h3 id=\"top_user_years_more_than_four_games\"><code>top_user_years_more_than_four_games</code></h3>\n",
    "<tabela>\n",
    "<thead>\n",
    "<tr>\n",
    "<th style=\"text-align:left;\">coluna</th>\n",
    "<th>tipo</th>\n",
    "<th>significado</th>\n",
    "</tr>\n",
    "</thead>\n",
    "<corpo>\n",
    "<tr>\n",
    "<td style=\"text-align:left;\"><code>ano</code></td>\n",
    "<td>int</td>\n",
    "<td>Ano de lançamento do videogame</td>\n",
    "</tr>\n",
    "<tr>\n",
    "<td style=\"text-align:left;\"><code>num_games</code></td>\n",
    "<td>int</td>\n",
    "<td>Contagem do número de videogames lançados naquele ano</td>\n",
    "</tr>\n",
    "<tr>\n",
    "<td style=\"text-align:left;\"><code>avg_user_score</code></td>\n",
    "<td>flutua</td>\n",
    "<td>Média de todas as pontuações dos usuários para jogos lançados naquele ano</td>\n",
    "</tr>\n",
    "</tbody>\n",
    "</table>"
   ]
  },
  {
   "cell_type": "code",
   "execution_count": 91,
   "metadata": {
    "dc": {
     "key": "49"
    },
    "tags": [
     "sample_code"
    ]
   },
   "outputs": [
    {
     "name": "stdout",
     "output_type": "stream",
     "text": [
      " * postgresql:///games\n",
      "3 rows affected.\n"
     ]
    },
    {
     "data": {
      "text/html": [
       "<table>\n",
       "    <thead>\n",
       "        <tr>\n",
       "            <th>year</th>\n",
       "        </tr>\n",
       "    </thead>\n",
       "    <tbody>\n",
       "        <tr>\n",
       "            <td>1998</td>\n",
       "        </tr>\n",
       "        <tr>\n",
       "            <td>2008</td>\n",
       "        </tr>\n",
       "        <tr>\n",
       "            <td>2002</td>\n",
       "        </tr>\n",
       "    </tbody>\n",
       "</table>"
      ],
      "text/plain": [
       "[(1998,), (2008,), (2002,)]"
      ]
     },
     "execution_count": 91,
     "metadata": {},
     "output_type": "execute_result"
    }
   ],
   "source": [
    "%%sql \n",
    "\n",
    "-- Select the year results that appear on both tables\n",
    "SELECT year\n",
    "FROM top_user_years_more_than_four_games\n",
    "INTERSECT\n",
    "SELECT year\n",
    "FROM top_critic_years_more_than_four_games;"
   ]
  },
  {
   "cell_type": "markdown",
   "metadata": {},
   "source": [
    "## 8. Vendas nos melhores anos de videogame\n",
    "<p>Parece que há três anos que usuários e críticos concordam que estão entre os dez primeiros! Existem muitas outras maneiras de medir quais são os melhores anos para os videogames, mas vamos nos ater a esses anos por enquanto. Sabemos que críticos e jogadores gostaram desses anos, mas e os fabricantes de videogames? As vendas foram boas? Vamos descobrir.</p>\n",
    "<p>Desta vez, não salvamos os resultados da tarefa anterior em uma tabela para você. Em vez disso, usaremos a consulta da tarefa anterior como uma subconsulta desta! Essa é uma ótima habilidade, pois nem sempre temos permissões de gravação no banco de dados que estamos consultando.</p>"
   ]
  },
  {
   "cell_type": "code",
   "execution_count": 93,
   "metadata": {
    "dc": {
     "key": "56"
    },
    "tags": [
     "sample_code"
    ]
   },
   "outputs": [
    {
     "name": "stdout",
     "output_type": "stream",
     "text": [
      " * postgresql:///games\n",
      "3 rows affected.\n"
     ]
    },
    {
     "data": {
      "text/html": [
       "<table>\n",
       "    <thead>\n",
       "        <tr>\n",
       "            <th>year</th>\n",
       "            <th>total_games_sold</th>\n",
       "        </tr>\n",
       "    </thead>\n",
       "    <tbody>\n",
       "        <tr>\n",
       "            <td>2008</td>\n",
       "            <td>175.07</td>\n",
       "        </tr>\n",
       "        <tr>\n",
       "            <td>1998</td>\n",
       "            <td>101.52</td>\n",
       "        </tr>\n",
       "        <tr>\n",
       "            <td>2002</td>\n",
       "            <td>58.67</td>\n",
       "        </tr>\n",
       "    </tbody>\n",
       "</table>"
      ],
      "text/plain": [
       "[(2008, Decimal('175.07')),\n",
       " (1998, Decimal('101.52')),\n",
       " (2002, Decimal('58.67'))]"
      ]
     },
     "execution_count": 93,
     "metadata": {},
     "output_type": "execute_result"
    }
   ],
   "source": [
    "%%sql \n",
    "\n",
    "-- Select year and sum of games_sold, aliased as total_games_sold; order results by total_games_sold descending\n",
    "-- Filter game_sales based on whether each year is in the list returned in the previous task\n",
    "SELECT g.year, SUM(g.games_sold) AS total_games_sold\n",
    "FROM game_sales g\n",
    "WHERE g.year IN (SELECT year\n",
    "FROM top_user_years_more_than_four_games\n",
    "INTERSECT\n",
    "SELECT year\n",
    "FROM top_critic_years_more_than_four_games)\n",
    "GROUP BY g.year\n",
    "ORDER BY total_games_sold DESC;"
   ]
  },
  {
   "cell_type": "code",
   "execution_count": null,
   "metadata": {},
   "outputs": [],
   "source": []
  },
  {
   "cell_type": "code",
   "execution_count": null,
   "metadata": {},
   "outputs": [],
   "source": []
  },
  {
   "cell_type": "code",
   "execution_count": null,
   "metadata": {},
   "outputs": [],
   "source": []
  }
 ],
 "metadata": {
  "kernelspec": {
   "display_name": "Python 3 (ipykernel)",
   "language": "python",
   "name": "python3"
  },
  "language_info": {
   "codemirror_mode": {
    "name": "ipython",
    "version": 3
   },
   "file_extension": ".py",
   "mimetype": "text/x-python",
   "name": "python",
   "nbconvert_exporter": "python",
   "pygments_lexer": "ipython3",
   "version": "3.9.7"
  }
 },
 "nbformat": 4,
 "nbformat_minor": 2
}
