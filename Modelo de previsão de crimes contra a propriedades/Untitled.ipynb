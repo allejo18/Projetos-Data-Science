{
 "cells": [
  {
   "cell_type": "markdown",
   "metadata": {},
   "source": [
    "Neste notebook, realizei um modelo que prevê crimes contra a propriedade em Nova York com base em 3 características da população, assassinatos e roubos."
   ]
  },
  {
   "cell_type": "markdown",
   "metadata": {},
   "source": [
    "Importando e limpando os dados"
   ]
  },
  {
   "cell_type": "code",
   "execution_count": 1,
   "metadata": {},
   "outputs": [],
   "source": [
    "import pandas as pd\n",
    "from matplotlib import pyplot as plt\n",
    "import numpy as np\n",
    "from sklearn import linear_model\n",
    "import seaborn as sns\n",
    "%matplotlib inline\n",
    "pd.options.display.float_format = '{:.3f}'.format\n",
    "\n",
    "import warnings\n",
    "warnings.filterwarnings(action=\"ignore\", module=\"scipy\", message=\"^internal gelsd\")"
   ]
  },
  {
   "cell_type": "code",
   "execution_count": 4,
   "metadata": {},
   "outputs": [],
   "source": [
    "df_raw = pd.read_excel('table2.xls')\n"
   ]
  },
  {
   "cell_type": "markdown",
   "metadata": {},
   "source": [
    "Como você pode ver aqui, temos algumas linhas extras na parte superior e precisamos rotular as colunas de acordo com a linha 3, que fornece os cabeçalhos das colunas."
   ]
  },
  {
   "cell_type": "code",
   "execution_count": 5,
   "metadata": {},
   "outputs": [
    {
     "data": {
      "text/html": [
       "<div>\n",
       "<style scoped>\n",
       "    .dataframe tbody tr th:only-of-type {\n",
       "        vertical-align: middle;\n",
       "    }\n",
       "\n",
       "    .dataframe tbody tr th {\n",
       "        vertical-align: top;\n",
       "    }\n",
       "\n",
       "    .dataframe thead th {\n",
       "        text-align: right;\n",
       "    }\n",
       "</style>\n",
       "<table border=\"1\" class=\"dataframe\">\n",
       "  <thead>\n",
       "    <tr style=\"text-align: right;\">\n",
       "      <th></th>\n",
       "      <th>Table 8</th>\n",
       "      <th>Unnamed: 1</th>\n",
       "      <th>Unnamed: 2</th>\n",
       "      <th>Unnamed: 3</th>\n",
       "      <th>Unnamed: 4</th>\n",
       "      <th>Unnamed: 5</th>\n",
       "      <th>Unnamed: 6</th>\n",
       "      <th>Unnamed: 7</th>\n",
       "      <th>Unnamed: 8</th>\n",
       "      <th>Unnamed: 9</th>\n",
       "      <th>Unnamed: 10</th>\n",
       "      <th>Unnamed: 11</th>\n",
       "      <th>Unnamed: 12</th>\n",
       "    </tr>\n",
       "  </thead>\n",
       "  <tbody>\n",
       "    <tr>\n",
       "      <th>350</th>\n",
       "      <td>Yonkers</td>\n",
       "      <td>199134</td>\n",
       "      <td>1036</td>\n",
       "      <td>6</td>\n",
       "      <td>NaN</td>\n",
       "      <td>25</td>\n",
       "      <td>390</td>\n",
       "      <td>615</td>\n",
       "      <td>2368</td>\n",
       "      <td>470</td>\n",
       "      <td>1662</td>\n",
       "      <td>236</td>\n",
       "      <td>10</td>\n",
       "    </tr>\n",
       "    <tr>\n",
       "      <th>351</th>\n",
       "      <td>Yorktown Town</td>\n",
       "      <td>36643</td>\n",
       "      <td>15</td>\n",
       "      <td>0</td>\n",
       "      <td>NaN</td>\n",
       "      <td>0</td>\n",
       "      <td>2</td>\n",
       "      <td>13</td>\n",
       "      <td>334</td>\n",
       "      <td>45</td>\n",
       "      <td>287</td>\n",
       "      <td>2</td>\n",
       "      <td>NaN</td>\n",
       "    </tr>\n",
       "    <tr>\n",
       "      <th>352</th>\n",
       "      <td>1 The figures shown in this column for the off...</td>\n",
       "      <td>NaN</td>\n",
       "      <td>NaN</td>\n",
       "      <td>NaN</td>\n",
       "      <td>NaN</td>\n",
       "      <td>NaN</td>\n",
       "      <td>NaN</td>\n",
       "      <td>NaN</td>\n",
       "      <td>NaN</td>\n",
       "      <td>NaN</td>\n",
       "      <td>NaN</td>\n",
       "      <td>NaN</td>\n",
       "      <td>NaN</td>\n",
       "    </tr>\n",
       "    <tr>\n",
       "      <th>353</th>\n",
       "      <td>2 The figures shown in this column for the off...</td>\n",
       "      <td>NaN</td>\n",
       "      <td>NaN</td>\n",
       "      <td>NaN</td>\n",
       "      <td>NaN</td>\n",
       "      <td>NaN</td>\n",
       "      <td>NaN</td>\n",
       "      <td>NaN</td>\n",
       "      <td>NaN</td>\n",
       "      <td>NaN</td>\n",
       "      <td>NaN</td>\n",
       "      <td>NaN</td>\n",
       "      <td>NaN</td>\n",
       "    </tr>\n",
       "    <tr>\n",
       "      <th>354</th>\n",
       "      <td>3 The FBI does not publish arson data unless i...</td>\n",
       "      <td>NaN</td>\n",
       "      <td>NaN</td>\n",
       "      <td>NaN</td>\n",
       "      <td>NaN</td>\n",
       "      <td>NaN</td>\n",
       "      <td>NaN</td>\n",
       "      <td>NaN</td>\n",
       "      <td>NaN</td>\n",
       "      <td>NaN</td>\n",
       "      <td>NaN</td>\n",
       "      <td>NaN</td>\n",
       "      <td>NaN</td>\n",
       "    </tr>\n",
       "  </tbody>\n",
       "</table>\n",
       "</div>"
      ],
      "text/plain": [
       "                                               Table 8 Unnamed: 1 Unnamed: 2  \\\n",
       "350                                            Yonkers     199134       1036   \n",
       "351                                      Yorktown Town      36643         15   \n",
       "352  1 The figures shown in this column for the off...        NaN        NaN   \n",
       "353  2 The figures shown in this column for the off...        NaN        NaN   \n",
       "354  3 The FBI does not publish arson data unless i...        NaN        NaN   \n",
       "\n",
       "    Unnamed: 3 Unnamed: 4 Unnamed: 5 Unnamed: 6 Unnamed: 7 Unnamed: 8  \\\n",
       "350          6        NaN         25        390        615       2368   \n",
       "351          0        NaN          0          2         13        334   \n",
       "352        NaN        NaN        NaN        NaN        NaN        NaN   \n",
       "353        NaN        NaN        NaN        NaN        NaN        NaN   \n",
       "354        NaN        NaN        NaN        NaN        NaN        NaN   \n",
       "\n",
       "    Unnamed: 9 Unnamed: 10 Unnamed: 11 Unnamed: 12  \n",
       "350        470        1662         236          10  \n",
       "351         45         287           2         NaN  \n",
       "352        NaN         NaN         NaN         NaN  \n",
       "353        NaN         NaN         NaN         NaN  \n",
       "354        NaN         NaN         NaN         NaN  "
      ]
     },
     "execution_count": 5,
     "metadata": {},
     "output_type": "execute_result"
    }
   ],
   "source": [
    "# Mostrar as 5 ultimas linhas e também as 3 que precisam ser removidas\n",
    "df_raw.tail()"
   ]
  },
  {
   "cell_type": "markdown",
   "metadata": {},
   "source": [
    "As últimas linhas aqui precisam ser excluídas, pois não contêm dados. Também precisamos verificar se há valores ausentes ou NaN nos dados."
   ]
  },
  {
   "cell_type": "code",
   "execution_count": 6,
   "metadata": {},
   "outputs": [],
   "source": [
    "# definindo o cabeçalho apropriado da 4ª linha de dados brutos\n",
    "\n",
    "headers = df_raw.iloc[3]\n",
    "\n",
    "# excluindo as linhas de 1 a 4 (ou linhas 0, 1, 2, 3)\n",
    "\n",
    "df_ny = pd.DataFrame(df_raw.values[4:], columns=headers)\n",
    "\n",
    "# renomeando as colunas\n",
    "\n",
    "df_ny.columns = ['city', 'pop', 'vc', 'murder', 'rape1', 'rape2', 'robbery', 'aa', 'pc', 'burglary', 'lt', 'mvt', 'arson3']\n",
    "df_ny_all = df_ny\n",
    "\n",
    "\n",
    "# deletando colunas desnecessarias\n",
    "\n",
    "df_ny = df_ny.drop(['vc', 'rape1', 'rape2', 'aa', 'burglary', 'lt', 'mvt', 'arson3'], axis=1)\n",
    "\n",
    "# deletando algumas outras colunas\n",
    "\n",
    "df_ny_some = df_ny_all.drop(['vc', 'rape1', 'rape2', 'lt', 'mvt', 'arson3'], axis=1)\n",
    "\n",
    "\n",
    "# removendo as ultimas 3 linhas\n",
    "df_ny = df_ny.drop([348, 349, 350], axis=0)"
   ]
  },
  {
   "cell_type": "code",
   "execution_count": 7,
   "metadata": {},
   "outputs": [
    {
     "data": {
      "text/html": [
       "<div>\n",
       "<style scoped>\n",
       "    .dataframe tbody tr th:only-of-type {\n",
       "        vertical-align: middle;\n",
       "    }\n",
       "\n",
       "    .dataframe tbody tr th {\n",
       "        vertical-align: top;\n",
       "    }\n",
       "\n",
       "    .dataframe thead th {\n",
       "        text-align: right;\n",
       "    }\n",
       "</style>\n",
       "<table border=\"1\" class=\"dataframe\">\n",
       "  <thead>\n",
       "    <tr style=\"text-align: right;\">\n",
       "      <th></th>\n",
       "      <th>city</th>\n",
       "      <th>pop</th>\n",
       "      <th>murder</th>\n",
       "      <th>robbery</th>\n",
       "      <th>pc</th>\n",
       "    </tr>\n",
       "  </thead>\n",
       "  <tbody>\n",
       "    <tr>\n",
       "      <th>0</th>\n",
       "      <td>Adams Village</td>\n",
       "      <td>1861</td>\n",
       "      <td>0</td>\n",
       "      <td>0</td>\n",
       "      <td>12</td>\n",
       "    </tr>\n",
       "    <tr>\n",
       "      <th>1</th>\n",
       "      <td>Addison Town and Village</td>\n",
       "      <td>2577</td>\n",
       "      <td>0</td>\n",
       "      <td>0</td>\n",
       "      <td>24</td>\n",
       "    </tr>\n",
       "    <tr>\n",
       "      <th>2</th>\n",
       "      <td>Akron Village</td>\n",
       "      <td>2846</td>\n",
       "      <td>0</td>\n",
       "      <td>0</td>\n",
       "      <td>16</td>\n",
       "    </tr>\n",
       "    <tr>\n",
       "      <th>3</th>\n",
       "      <td>Albany</td>\n",
       "      <td>97956</td>\n",
       "      <td>8</td>\n",
       "      <td>227</td>\n",
       "      <td>4090</td>\n",
       "    </tr>\n",
       "    <tr>\n",
       "      <th>4</th>\n",
       "      <td>Albion Village</td>\n",
       "      <td>6388</td>\n",
       "      <td>0</td>\n",
       "      <td>4</td>\n",
       "      <td>223</td>\n",
       "    </tr>\n",
       "  </tbody>\n",
       "</table>\n",
       "</div>"
      ],
      "text/plain": [
       "                       city    pop murder robbery    pc\n",
       "0             Adams Village   1861      0       0    12\n",
       "1  Addison Town and Village   2577      0       0    24\n",
       "2             Akron Village   2846      0       0    16\n",
       "3                    Albany  97956      8     227  4090\n",
       "4            Albion Village   6388      0       4   223"
      ]
     },
     "execution_count": 7,
     "metadata": {},
     "output_type": "execute_result"
    }
   ],
   "source": [
    "df_ny.head()"
   ]
  },
  {
   "cell_type": "code",
   "execution_count": 8,
   "metadata": {},
   "outputs": [
    {
     "name": "stderr",
     "output_type": "stream",
     "text": [
      "C:\\Users\\PAULOF~1\\AppData\\Local\\Temp/ipykernel_12172/4017869491.py:3: DeprecationWarning: `np.float` is a deprecated alias for the builtin `float`. To silence this warning, use `float` by itself. Doing this will not modify any behavior and is safe. If you specifically wanted the numpy scalar type, use `np.float64` here.\n",
      "Deprecated in NumPy 1.20; for more details and guidance: https://numpy.org/devdocs/release/1.20.0-notes.html#deprecations\n",
      "  df_ny[\"pop\"] = [np.float(x) for x in df_ny[\"pop\"]]\n",
      "C:\\Users\\PAULOF~1\\AppData\\Local\\Temp/ipykernel_12172/4017869491.py:4: DeprecationWarning: `np.float` is a deprecated alias for the builtin `float`. To silence this warning, use `float` by itself. Doing this will not modify any behavior and is safe. If you specifically wanted the numpy scalar type, use `np.float64` here.\n",
      "Deprecated in NumPy 1.20; for more details and guidance: https://numpy.org/devdocs/release/1.20.0-notes.html#deprecations\n",
      "  df_ny[\"pop2\"] = [np.float(x*x) for x in df_ny[\"pop\"]]\n",
      "C:\\Users\\PAULOF~1\\AppData\\Local\\Temp/ipykernel_12172/4017869491.py:5: DeprecationWarning: `np.float` is a deprecated alias for the builtin `float`. To silence this warning, use `float` by itself. Doing this will not modify any behavior and is safe. If you specifically wanted the numpy scalar type, use `np.float64` here.\n",
      "Deprecated in NumPy 1.20; for more details and guidance: https://numpy.org/devdocs/release/1.20.0-notes.html#deprecations\n",
      "  df_ny[\"murder\"] = [np.float(x) for x in df_ny[\"murder\"]]\n",
      "C:\\Users\\PAULOF~1\\AppData\\Local\\Temp/ipykernel_12172/4017869491.py:6: DeprecationWarning: `np.float` is a deprecated alias for the builtin `float`. To silence this warning, use `float` by itself. Doing this will not modify any behavior and is safe. If you specifically wanted the numpy scalar type, use `np.float64` here.\n",
      "Deprecated in NumPy 1.20; for more details and guidance: https://numpy.org/devdocs/release/1.20.0-notes.html#deprecations\n",
      "  df_ny[\"robbery\"] = [np.float(x) for x in df_ny[\"robbery\"]]\n",
      "C:\\Users\\PAULOF~1\\AppData\\Local\\Temp/ipykernel_12172/4017869491.py:7: DeprecationWarning: `np.float` is a deprecated alias for the builtin `float`. To silence this warning, use `float` by itself. Doing this will not modify any behavior and is safe. If you specifically wanted the numpy scalar type, use `np.float64` here.\n",
      "Deprecated in NumPy 1.20; for more details and guidance: https://numpy.org/devdocs/release/1.20.0-notes.html#deprecations\n",
      "  df_ny[\"pc\"] = [np.float(x) for x in df_ny[\"pc\"]]\n"
     ]
    }
   ],
   "source": [
    "#convertendo valores de string para float e criando coluna 'pop2' que é pop ao quadrado\n",
    "\n",
    "df_ny[\"pop\"] = [np.float(x) for x in df_ny[\"pop\"]]\n",
    "df_ny[\"pop2\"] = [np.float(x*x) for x in df_ny[\"pop\"]]\n",
    "df_ny[\"murder\"] = [np.float(x) for x in df_ny[\"murder\"]]\n",
    "df_ny[\"robbery\"] = [np.float(x) for x in df_ny[\"robbery\"]]\n",
    "df_ny[\"pc\"] = [np.float(x) for x in df_ny[\"pc\"]]"
   ]
  },
  {
   "cell_type": "code",
   "execution_count": 9,
   "metadata": {},
   "outputs": [
    {
     "data": {
      "text/plain": [
       "city        object\n",
       "pop        float64\n",
       "murder     float64\n",
       "robbery    float64\n",
       "pc         float64\n",
       "pop2       float64\n",
       "dtype: object"
      ]
     },
     "execution_count": 9,
     "metadata": {},
     "output_type": "execute_result"
    }
   ],
   "source": [
    "df_ny.dtypes"
   ]
  },
  {
   "cell_type": "code",
   "execution_count": 10,
   "metadata": {},
   "outputs": [
    {
     "data": {
      "text/html": [
       "<div>\n",
       "<style scoped>\n",
       "    .dataframe tbody tr th:only-of-type {\n",
       "        vertical-align: middle;\n",
       "    }\n",
       "\n",
       "    .dataframe tbody tr th {\n",
       "        vertical-align: top;\n",
       "    }\n",
       "\n",
       "    .dataframe thead th {\n",
       "        text-align: right;\n",
       "    }\n",
       "</style>\n",
       "<table border=\"1\" class=\"dataframe\">\n",
       "  <thead>\n",
       "    <tr style=\"text-align: right;\">\n",
       "      <th></th>\n",
       "      <th>city</th>\n",
       "      <th>pop</th>\n",
       "      <th>murder</th>\n",
       "      <th>robbery</th>\n",
       "      <th>pc</th>\n",
       "      <th>pop2</th>\n",
       "    </tr>\n",
       "  </thead>\n",
       "  <tbody>\n",
       "    <tr>\n",
       "      <th>0</th>\n",
       "      <td>Adams Village</td>\n",
       "      <td>1861.000</td>\n",
       "      <td>0</td>\n",
       "      <td>0</td>\n",
       "      <td>12.000</td>\n",
       "      <td>3463321.000</td>\n",
       "    </tr>\n",
       "    <tr>\n",
       "      <th>1</th>\n",
       "      <td>Addison Town and Village</td>\n",
       "      <td>2577.000</td>\n",
       "      <td>0</td>\n",
       "      <td>0</td>\n",
       "      <td>24.000</td>\n",
       "      <td>6640929.000</td>\n",
       "    </tr>\n",
       "    <tr>\n",
       "      <th>2</th>\n",
       "      <td>Akron Village</td>\n",
       "      <td>2846.000</td>\n",
       "      <td>0</td>\n",
       "      <td>0</td>\n",
       "      <td>16.000</td>\n",
       "      <td>8099716.000</td>\n",
       "    </tr>\n",
       "    <tr>\n",
       "      <th>3</th>\n",
       "      <td>Albany</td>\n",
       "      <td>97956.000</td>\n",
       "      <td>1</td>\n",
       "      <td>1</td>\n",
       "      <td>4090.000</td>\n",
       "      <td>9595377936.000</td>\n",
       "    </tr>\n",
       "    <tr>\n",
       "      <th>4</th>\n",
       "      <td>Albion Village</td>\n",
       "      <td>6388.000</td>\n",
       "      <td>0</td>\n",
       "      <td>1</td>\n",
       "      <td>223.000</td>\n",
       "      <td>40806544.000</td>\n",
       "    </tr>\n",
       "  </tbody>\n",
       "</table>\n",
       "</div>"
      ],
      "text/plain": [
       "                       city       pop  murder  robbery       pc           pop2\n",
       "0             Adams Village  1861.000       0        0   12.000    3463321.000\n",
       "1  Addison Town and Village  2577.000       0        0   24.000    6640929.000\n",
       "2             Akron Village  2846.000       0        0   16.000    8099716.000\n",
       "3                    Albany 97956.000       1        1 4090.000 9595377936.000\n",
       "4            Albion Village  6388.000       0        1  223.000   40806544.000"
      ]
     },
     "execution_count": 10,
     "metadata": {},
     "output_type": "execute_result"
    }
   ],
   "source": [
    "# Se assassinatos ou roubos forem maiores que 0, converta para 1 senão deixe em 0\n",
    "\n",
    "df_ny['murder'] = df_ny['murder'].apply(lambda x : 1 if x>0 else 0)\n",
    "df_ny['robbery'] = df_ny['robbery'].apply(lambda x : 1 if x>0 else 0)\n",
    "df_ny.head()"
   ]
  },
  {
   "cell_type": "code",
   "execution_count": 11,
   "metadata": {},
   "outputs": [
    {
     "data": {
      "text/plain": [
       "city       0\n",
       "pop        0\n",
       "murder     0\n",
       "robbery    0\n",
       "pc         0\n",
       "pop2       0\n",
       "dtype: int64"
      ]
     },
     "execution_count": 11,
     "metadata": {},
     "output_type": "execute_result"
    }
   ],
   "source": [
    "df_ny.isnull().sum()"
   ]
  },
  {
   "cell_type": "markdown",
   "metadata": {},
   "source": [
    "Agora vamos apenas olhar para o crime de propriedade versus população com um gráfico de dispersão."
   ]
  },
  {
   "cell_type": "code",
   "execution_count": 14,
   "metadata": {},
   "outputs": [
    {
     "data": {
      "text/plain": [
       "<matplotlib.collections.PathCollection at 0x1c4dc6d79a0>"
      ]
     },
     "execution_count": 14,
     "metadata": {},
     "output_type": "execute_result"
    },
    {
     "data": {
      "image/png": "[encoded data removed]",
      "text/plain": [
       "<Figure size 432x288 with 1 Axes>"
      ]
     },
     "metadata": {
      "needs_background": "light"
     },
     "output_type": "display_data"
    }
   ],
   "source": [
    "plt.scatter(df_ny['pop'], df_ny['pc'])"
   ]
  },
  {
   "cell_type": "markdown",
   "metadata": {},
   "source": [
    "Parece que temos um enorme ponto fora da curva aqui que pode facilmente causar problemas na construção de um modelo confiável. Vamos descobrir o que é e remove-lo."
   ]
  },
  {
   "cell_type": "code",
   "execution_count": 15,
   "metadata": {},
   "outputs": [
    {
     "name": "stdout",
     "output_type": "stream",
     "text": [
      "526.0\n",
      "141971.0\n",
      "         city         pop  murder  robbery         pc               pop2\n",
      "216  New York 8396126.000       1        1 141971.000 70494931807876.000\n",
      "\n",
      "\n",
      "                  city     pop  murder  robbery    pc       pop2\n",
      "118  Glen Park Village 526.000       0        0 5.000 276676.000\n"
     ]
    }
   ],
   "source": [
    "print(min(df_ny['pop']))\n",
    "print(max(df_ny['pc']))\n",
    "print(df_ny.loc[df_ny['city'] == 'New York'])\n",
    "print('\\n')\n",
    "print(df_ny.loc[df_ny['pop'] == 526.0])"
   ]
  },
  {
   "cell_type": "markdown",
   "metadata": {},
   "source": [
    "Portanto, a cidade em questão é a cidade de Nova York, que tem uma população de 141.971."
   ]
  },
  {
   "cell_type": "code",
   "execution_count": 18,
   "metadata": {},
   "outputs": [
    {
     "data": {
      "text/plain": [
       "<matplotlib.collections.PathCollection at 0x1c4dc703af0>"
      ]
     },
     "execution_count": 18,
     "metadata": {},
     "output_type": "execute_result"
    },
    {
     "data": {
      "image/png": "[encoded data removed]",
      "text/plain": [
       "<Figure size 432x288 with 1 Axes>"
      ]
     },
     "metadata": {
      "needs_background": "light"
     },
     "output_type": "display_data"
    }
   ],
   "source": [
    "# deletando a linha 216\n",
    "df_no_nyc = df_ny.drop([216])\n",
    "\n",
    "# plotando de novo o gráfico\n",
    "plt.scatter(df_no_nyc['pop'], df_no_nyc['pc'])"
   ]
  },
  {
   "cell_type": "markdown",
   "metadata": {},
   "source": [
    "Bem melhor !"
   ]
  },
  {
   "cell_type": "code",
   "execution_count": 19,
   "metadata": {},
   "outputs": [
    {
     "data": {
      "text/html": [
       "<div>\n",
       "<style scoped>\n",
       "    .dataframe tbody tr th:only-of-type {\n",
       "        vertical-align: middle;\n",
       "    }\n",
       "\n",
       "    .dataframe tbody tr th {\n",
       "        vertical-align: top;\n",
       "    }\n",
       "\n",
       "    .dataframe thead th {\n",
       "        text-align: right;\n",
       "    }\n",
       "</style>\n",
       "<table border=\"1\" class=\"dataframe\">\n",
       "  <thead>\n",
       "    <tr style=\"text-align: right;\">\n",
       "      <th></th>\n",
       "      <th>city</th>\n",
       "      <th>pop</th>\n",
       "      <th>vc</th>\n",
       "      <th>murder</th>\n",
       "      <th>rape1</th>\n",
       "      <th>rape2</th>\n",
       "      <th>robbery</th>\n",
       "      <th>aa</th>\n",
       "      <th>pc</th>\n",
       "      <th>burglary</th>\n",
       "      <th>lt</th>\n",
       "      <th>mvt</th>\n",
       "      <th>arson3</th>\n",
       "    </tr>\n",
       "  </thead>\n",
       "  <tbody>\n",
       "    <tr>\n",
       "      <th>346</th>\n",
       "      <td>Yonkers</td>\n",
       "      <td>199134</td>\n",
       "      <td>1036</td>\n",
       "      <td>6</td>\n",
       "      <td>NaN</td>\n",
       "      <td>25</td>\n",
       "      <td>390</td>\n",
       "      <td>615</td>\n",
       "      <td>2368</td>\n",
       "      <td>470</td>\n",
       "      <td>1662</td>\n",
       "      <td>236</td>\n",
       "      <td>10</td>\n",
       "    </tr>\n",
       "    <tr>\n",
       "      <th>347</th>\n",
       "      <td>Yorktown Town</td>\n",
       "      <td>36643</td>\n",
       "      <td>15</td>\n",
       "      <td>0</td>\n",
       "      <td>NaN</td>\n",
       "      <td>0</td>\n",
       "      <td>2</td>\n",
       "      <td>13</td>\n",
       "      <td>334</td>\n",
       "      <td>45</td>\n",
       "      <td>287</td>\n",
       "      <td>2</td>\n",
       "      <td>NaN</td>\n",
       "    </tr>\n",
       "    <tr>\n",
       "      <th>348</th>\n",
       "      <td>1 The figures shown in this column for the off...</td>\n",
       "      <td>NaN</td>\n",
       "      <td>NaN</td>\n",
       "      <td>NaN</td>\n",
       "      <td>NaN</td>\n",
       "      <td>NaN</td>\n",
       "      <td>NaN</td>\n",
       "      <td>NaN</td>\n",
       "      <td>NaN</td>\n",
       "      <td>NaN</td>\n",
       "      <td>NaN</td>\n",
       "      <td>NaN</td>\n",
       "      <td>NaN</td>\n",
       "    </tr>\n",
       "    <tr>\n",
       "      <th>349</th>\n",
       "      <td>2 The figures shown in this column for the off...</td>\n",
       "      <td>NaN</td>\n",
       "      <td>NaN</td>\n",
       "      <td>NaN</td>\n",
       "      <td>NaN</td>\n",
       "      <td>NaN</td>\n",
       "      <td>NaN</td>\n",
       "      <td>NaN</td>\n",
       "      <td>NaN</td>\n",
       "      <td>NaN</td>\n",
       "      <td>NaN</td>\n",
       "      <td>NaN</td>\n",
       "      <td>NaN</td>\n",
       "    </tr>\n",
       "    <tr>\n",
       "      <th>350</th>\n",
       "      <td>3 The FBI does not publish arson data unless i...</td>\n",
       "      <td>NaN</td>\n",
       "      <td>NaN</td>\n",
       "      <td>NaN</td>\n",
       "      <td>NaN</td>\n",
       "      <td>NaN</td>\n",
       "      <td>NaN</td>\n",
       "      <td>NaN</td>\n",
       "      <td>NaN</td>\n",
       "      <td>NaN</td>\n",
       "      <td>NaN</td>\n",
       "      <td>NaN</td>\n",
       "      <td>NaN</td>\n",
       "    </tr>\n",
       "  </tbody>\n",
       "</table>\n",
       "</div>"
      ],
      "text/plain": [
       "                                                  city     pop    vc murder  \\\n",
       "346                                            Yonkers  199134  1036      6   \n",
       "347                                      Yorktown Town   36643    15      0   \n",
       "348  1 The figures shown in this column for the off...     NaN   NaN    NaN   \n",
       "349  2 The figures shown in this column for the off...     NaN   NaN    NaN   \n",
       "350  3 The FBI does not publish arson data unless i...     NaN   NaN    NaN   \n",
       "\n",
       "    rape1 rape2 robbery   aa    pc burglary    lt  mvt arson3  \n",
       "346   NaN    25     390  615  2368      470  1662  236     10  \n",
       "347   NaN     0       2   13   334       45   287    2    NaN  \n",
       "348   NaN   NaN     NaN  NaN   NaN      NaN   NaN  NaN    NaN  \n",
       "349   NaN   NaN     NaN  NaN   NaN      NaN   NaN  NaN    NaN  \n",
       "350   NaN   NaN     NaN  NaN   NaN      NaN   NaN  NaN    NaN  "
      ]
     },
     "execution_count": 19,
     "metadata": {},
     "output_type": "execute_result"
    }
   ],
   "source": [
    "df_ny_all.tail()"
   ]
  },
  {
   "cell_type": "code",
   "execution_count": 20,
   "metadata": {},
   "outputs": [
    {
     "data": {
      "text/html": [
       "<div>\n",
       "<style scoped>\n",
       "    .dataframe tbody tr th:only-of-type {\n",
       "        vertical-align: middle;\n",
       "    }\n",
       "\n",
       "    .dataframe tbody tr th {\n",
       "        vertical-align: top;\n",
       "    }\n",
       "\n",
       "    .dataframe thead th {\n",
       "        text-align: right;\n",
       "    }\n",
       "</style>\n",
       "<table border=\"1\" class=\"dataframe\">\n",
       "  <thead>\n",
       "    <tr style=\"text-align: right;\">\n",
       "      <th></th>\n",
       "      <th>city</th>\n",
       "      <th>pop</th>\n",
       "      <th>vc</th>\n",
       "      <th>murder</th>\n",
       "      <th>rape2</th>\n",
       "      <th>robbery</th>\n",
       "      <th>aa</th>\n",
       "      <th>pc</th>\n",
       "      <th>burglary</th>\n",
       "      <th>lt</th>\n",
       "      <th>mvt</th>\n",
       "    </tr>\n",
       "  </thead>\n",
       "  <tbody>\n",
       "    <tr>\n",
       "      <th>0</th>\n",
       "      <td>Adams Village</td>\n",
       "      <td>1861</td>\n",
       "      <td>0</td>\n",
       "      <td>0</td>\n",
       "      <td>0</td>\n",
       "      <td>0</td>\n",
       "      <td>0</td>\n",
       "      <td>12</td>\n",
       "      <td>2</td>\n",
       "      <td>10</td>\n",
       "      <td>0</td>\n",
       "    </tr>\n",
       "    <tr>\n",
       "      <th>1</th>\n",
       "      <td>Addison Town and Village</td>\n",
       "      <td>2577</td>\n",
       "      <td>3</td>\n",
       "      <td>0</td>\n",
       "      <td>0</td>\n",
       "      <td>0</td>\n",
       "      <td>3</td>\n",
       "      <td>24</td>\n",
       "      <td>3</td>\n",
       "      <td>20</td>\n",
       "      <td>1</td>\n",
       "    </tr>\n",
       "    <tr>\n",
       "      <th>2</th>\n",
       "      <td>Akron Village</td>\n",
       "      <td>2846</td>\n",
       "      <td>3</td>\n",
       "      <td>0</td>\n",
       "      <td>0</td>\n",
       "      <td>0</td>\n",
       "      <td>3</td>\n",
       "      <td>16</td>\n",
       "      <td>1</td>\n",
       "      <td>15</td>\n",
       "      <td>0</td>\n",
       "    </tr>\n",
       "    <tr>\n",
       "      <th>3</th>\n",
       "      <td>Albany</td>\n",
       "      <td>97956</td>\n",
       "      <td>791</td>\n",
       "      <td>8</td>\n",
       "      <td>30</td>\n",
       "      <td>227</td>\n",
       "      <td>526</td>\n",
       "      <td>4090</td>\n",
       "      <td>705</td>\n",
       "      <td>3243</td>\n",
       "      <td>142</td>\n",
       "    </tr>\n",
       "    <tr>\n",
       "      <th>4</th>\n",
       "      <td>Albion Village</td>\n",
       "      <td>6388</td>\n",
       "      <td>23</td>\n",
       "      <td>0</td>\n",
       "      <td>3</td>\n",
       "      <td>4</td>\n",
       "      <td>16</td>\n",
       "      <td>223</td>\n",
       "      <td>53</td>\n",
       "      <td>165</td>\n",
       "      <td>5</td>\n",
       "    </tr>\n",
       "  </tbody>\n",
       "</table>\n",
       "</div>"
      ],
      "text/plain": [
       "                       city    pop   vc murder rape2 robbery   aa    pc  \\\n",
       "0             Adams Village   1861    0      0     0       0    0    12   \n",
       "1  Addison Town and Village   2577    3      0     0       0    3    24   \n",
       "2             Akron Village   2846    3      0     0       0    3    16   \n",
       "3                    Albany  97956  791      8    30     227  526  4090   \n",
       "4            Albion Village   6388   23      0     3       4   16   223   \n",
       "\n",
       "  burglary    lt  mvt  \n",
       "0        2    10    0  \n",
       "1        3    20    1  \n",
       "2        1    15    0  \n",
       "3      705  3243  142  \n",
       "4       53   165    5  "
      ]
     },
     "execution_count": 20,
     "metadata": {},
     "output_type": "execute_result"
    }
   ],
   "source": [
    "df_ny_all = df_ny_all.drop(['rape1', 'arson3'], axis=1)\n",
    "\n",
    "# deletando as ultimas 3 linhas\n",
    "df_ny_all = df_ny_all.drop([348, 349, 350], axis=0)\n",
    "\n",
    "df_ny_all.isnull().sum()\n",
    "\n",
    "df_ny_all.head()"
   ]
  },
  {
   "cell_type": "code",
   "execution_count": 21,
   "metadata": {},
   "outputs": [
    {
     "name": "stderr",
     "output_type": "stream",
     "text": [
      "C:\\Users\\PAULOF~1\\AppData\\Local\\Temp/ipykernel_12172/434584022.py:3: DeprecationWarning: `np.float` is a deprecated alias for the builtin `float`. To silence this warning, use `float` by itself. Doing this will not modify any behavior and is safe. If you specifically wanted the numpy scalar type, use `np.float64` here.\n",
      "Deprecated in NumPy 1.20; for more details and guidance: https://numpy.org/devdocs/release/1.20.0-notes.html#deprecations\n",
      "  df_ny_all[\"pop\"] = [np.float(x) for x in df_ny_all[\"pop\"]]\n",
      "C:\\Users\\PAULOF~1\\AppData\\Local\\Temp/ipykernel_12172/434584022.py:4: DeprecationWarning: `np.float` is a deprecated alias for the builtin `float`. To silence this warning, use `float` by itself. Doing this will not modify any behavior and is safe. If you specifically wanted the numpy scalar type, use `np.float64` here.\n",
      "Deprecated in NumPy 1.20; for more details and guidance: https://numpy.org/devdocs/release/1.20.0-notes.html#deprecations\n",
      "  df_ny_all[\"pop2\"] = [np.float(x*x) for x in df_ny_all[\"pop\"]]\n",
      "C:\\Users\\PAULOF~1\\AppData\\Local\\Temp/ipykernel_12172/434584022.py:5: DeprecationWarning: `np.float` is a deprecated alias for the builtin `float`. To silence this warning, use `float` by itself. Doing this will not modify any behavior and is safe. If you specifically wanted the numpy scalar type, use `np.float64` here.\n",
      "Deprecated in NumPy 1.20; for more details and guidance: https://numpy.org/devdocs/release/1.20.0-notes.html#deprecations\n",
      "  df_ny_all[\"vc\"] = [np.float(x) for x in df_ny_all[\"vc\"]]\n",
      "C:\\Users\\PAULOF~1\\AppData\\Local\\Temp/ipykernel_12172/434584022.py:6: DeprecationWarning: `np.float` is a deprecated alias for the builtin `float`. To silence this warning, use `float` by itself. Doing this will not modify any behavior and is safe. If you specifically wanted the numpy scalar type, use `np.float64` here.\n",
      "Deprecated in NumPy 1.20; for more details and guidance: https://numpy.org/devdocs/release/1.20.0-notes.html#deprecations\n",
      "  df_ny_all[\"murder\"] = [np.float(x) for x in df_ny_all[\"murder\"]]\n",
      "C:\\Users\\PAULOF~1\\AppData\\Local\\Temp/ipykernel_12172/434584022.py:7: DeprecationWarning: `np.float` is a deprecated alias for the builtin `float`. To silence this warning, use `float` by itself. Doing this will not modify any behavior and is safe. If you specifically wanted the numpy scalar type, use `np.float64` here.\n",
      "Deprecated in NumPy 1.20; for more details and guidance: https://numpy.org/devdocs/release/1.20.0-notes.html#deprecations\n",
      "  df_ny_all[\"rape2\"] = [np.float(x) for x in df_ny_all[\"rape2\"]]\n",
      "C:\\Users\\PAULOF~1\\AppData\\Local\\Temp/ipykernel_12172/434584022.py:8: DeprecationWarning: `np.float` is a deprecated alias for the builtin `float`. To silence this warning, use `float` by itself. Doing this will not modify any behavior and is safe. If you specifically wanted the numpy scalar type, use `np.float64` here.\n",
      "Deprecated in NumPy 1.20; for more details and guidance: https://numpy.org/devdocs/release/1.20.0-notes.html#deprecations\n",
      "  df_ny_all[\"robbery\"] = [np.float(x) for x in df_ny_all[\"robbery\"]]\n",
      "C:\\Users\\PAULOF~1\\AppData\\Local\\Temp/ipykernel_12172/434584022.py:9: DeprecationWarning: `np.float` is a deprecated alias for the builtin `float`. To silence this warning, use `float` by itself. Doing this will not modify any behavior and is safe. If you specifically wanted the numpy scalar type, use `np.float64` here.\n",
      "Deprecated in NumPy 1.20; for more details and guidance: https://numpy.org/devdocs/release/1.20.0-notes.html#deprecations\n",
      "  df_ny_all[\"aa\"] = [np.float(x) for x in df_ny_all[\"aa\"]]\n",
      "C:\\Users\\PAULOF~1\\AppData\\Local\\Temp/ipykernel_12172/434584022.py:10: DeprecationWarning: `np.float` is a deprecated alias for the builtin `float`. To silence this warning, use `float` by itself. Doing this will not modify any behavior and is safe. If you specifically wanted the numpy scalar type, use `np.float64` here.\n",
      "Deprecated in NumPy 1.20; for more details and guidance: https://numpy.org/devdocs/release/1.20.0-notes.html#deprecations\n",
      "  df_ny_all[\"pc\"] = [np.float(x) for x in df_ny_all[\"pc\"]]\n",
      "C:\\Users\\PAULOF~1\\AppData\\Local\\Temp/ipykernel_12172/434584022.py:11: DeprecationWarning: `np.float` is a deprecated alias for the builtin `float`. To silence this warning, use `float` by itself. Doing this will not modify any behavior and is safe. If you specifically wanted the numpy scalar type, use `np.float64` here.\n",
      "Deprecated in NumPy 1.20; for more details and guidance: https://numpy.org/devdocs/release/1.20.0-notes.html#deprecations\n",
      "  df_ny_all[\"burglary\"] = [np.float(x) for x in df_ny_all[\"burglary\"]]\n",
      "C:\\Users\\PAULOF~1\\AppData\\Local\\Temp/ipykernel_12172/434584022.py:12: DeprecationWarning: `np.float` is a deprecated alias for the builtin `float`. To silence this warning, use `float` by itself. Doing this will not modify any behavior and is safe. If you specifically wanted the numpy scalar type, use `np.float64` here.\n",
      "Deprecated in NumPy 1.20; for more details and guidance: https://numpy.org/devdocs/release/1.20.0-notes.html#deprecations\n",
      "  df_ny_all[\"lt\"] = [np.float(x) for x in df_ny_all[\"lt\"]]\n",
      "C:\\Users\\PAULOF~1\\AppData\\Local\\Temp/ipykernel_12172/434584022.py:13: DeprecationWarning: `np.float` is a deprecated alias for the builtin `float`. To silence this warning, use `float` by itself. Doing this will not modify any behavior and is safe. If you specifically wanted the numpy scalar type, use `np.float64` here.\n",
      "Deprecated in NumPy 1.20; for more details and guidance: https://numpy.org/devdocs/release/1.20.0-notes.html#deprecations\n",
      "  df_ny_all[\"mvt\"] = [np.float(x) for x in df_ny_all[\"mvt\"]]\n"
     ]
    }
   ],
   "source": [
    "#convertendo valores de string para float e criando coluna 'pop2' que é pop ao quadrado\n",
    "\n",
    "df_ny_all[\"pop\"] = [np.float(x) for x in df_ny_all[\"pop\"]]\n",
    "df_ny_all[\"pop2\"] = [np.float(x*x) for x in df_ny_all[\"pop\"]]\n",
    "df_ny_all[\"vc\"] = [np.float(x) for x in df_ny_all[\"vc\"]]\n",
    "df_ny_all[\"murder\"] = [np.float(x) for x in df_ny_all[\"murder\"]]\n",
    "df_ny_all[\"rape2\"] = [np.float(x) for x in df_ny_all[\"rape2\"]]\n",
    "df_ny_all[\"robbery\"] = [np.float(x) for x in df_ny_all[\"robbery\"]]\n",
    "df_ny_all[\"aa\"] = [np.float(x) for x in df_ny_all[\"aa\"]]\n",
    "df_ny_all[\"pc\"] = [np.float(x) for x in df_ny_all[\"pc\"]]\n",
    "df_ny_all[\"burglary\"] = [np.float(x) for x in df_ny_all[\"burglary\"]]\n",
    "df_ny_all[\"lt\"] = [np.float(x) for x in df_ny_all[\"lt\"]]\n",
    "df_ny_all[\"mvt\"] = [np.float(x) for x in df_ny_all[\"mvt\"]]\n"
   ]
  },
  {
   "cell_type": "code",
   "execution_count": 22,
   "metadata": {},
   "outputs": [
    {
     "data": {
      "text/plain": [
       "<AxesSubplot:>"
      ]
     },
     "execution_count": 22,
     "metadata": {},
     "output_type": "execute_result"
    },
    {
     "data": {
      "image/png": "[encoded data removed]",
      "text/plain": [
       "<Figure size 432x288 with 2 Axes>"
      ]
     },
     "metadata": {
      "needs_background": "light"
     },
     "output_type": "display_data"
    }
   ],
   "source": [
    "# Calcula a correlação pairwise de colunas, excluindo valores NA/null (com .corr); em seguida, crie o mapa de calor.\n",
    "sns.heatmap(df_ny_all.corr())\n"
   ]
  },
  {
   "cell_type": "markdown",
   "metadata": {},
   "source": [
    "Este é o mapa de calor com dados de NYC. Tudo é extremamente altamente correlacionado (provavelmente overfit). Também podemos ver que pop e pop2 estão praticamente perfeitamente correlacionados, então podemos descartar pop2."
   ]
  },
  {
   "cell_type": "code",
   "execution_count": 23,
   "metadata": {},
   "outputs": [],
   "source": [
    "df_ny_all_no_nyc = df_ny_all.drop([216])"
   ]
  },
  {
   "cell_type": "code",
   "execution_count": 24,
   "metadata": {},
   "outputs": [
    {
     "data": {
      "text/plain": [
       "<AxesSubplot:>"
      ]
     },
     "execution_count": 24,
     "metadata": {},
     "output_type": "execute_result"
    },
    {
     "data": {
      "image/png": "[encoded data removed]",
      "text/plain": [
       "<Figure size 432x288 with 2 Axes>"
      ]
     },
     "metadata": {
      "needs_background": "light"
     },
     "output_type": "display_data"
    }
   ],
   "source": [
    "# Calcula a correlação pairwise de colunas, excluindo valores NA/null (com .corr); em seguida, crie o mapa de calor.\n",
    "\n",
    "sns.heatmap(df_ny_all_no_nyc.corr())\n"
   ]
  },
  {
   "cell_type": "markdown",
   "metadata": {},
   "source": [
    "Este mapa de calor deixa de fora os dados de NYC. Podemos ver a forte correlação positiva entre população (pop) e crimes contra a propriedade (pc), que se parece com cerca de 0,90. Além disso, vemos que o modelo não parece ser superajustado, pois as correlações chegam a 0,75. Parece que agressão agravada (aa) é o recurso menos correlacionado aqui, então talvez esse recurso seja o melhor para usar na próxima vez para construir um modelo melhor."
   ]
  },
  {
   "cell_type": "code",
   "execution_count": 25,
   "metadata": {},
   "outputs": [
    {
     "data": {
      "text/html": [
       "<div>\n",
       "<style scoped>\n",
       "    .dataframe tbody tr th:only-of-type {\n",
       "        vertical-align: middle;\n",
       "    }\n",
       "\n",
       "    .dataframe tbody tr th {\n",
       "        vertical-align: top;\n",
       "    }\n",
       "\n",
       "    .dataframe thead th {\n",
       "        text-align: right;\n",
       "    }\n",
       "</style>\n",
       "<table border=\"1\" class=\"dataframe\">\n",
       "  <thead>\n",
       "    <tr style=\"text-align: right;\">\n",
       "      <th></th>\n",
       "      <th>city</th>\n",
       "      <th>pop</th>\n",
       "      <th>vc</th>\n",
       "      <th>murder</th>\n",
       "      <th>rape2</th>\n",
       "      <th>robbery</th>\n",
       "      <th>aa</th>\n",
       "      <th>pc</th>\n",
       "      <th>burglary</th>\n",
       "      <th>lt</th>\n",
       "      <th>mvt</th>\n",
       "      <th>pop2</th>\n",
       "    </tr>\n",
       "  </thead>\n",
       "  <tbody>\n",
       "    <tr>\n",
       "      <th>0</th>\n",
       "      <td>Adams Village</td>\n",
       "      <td>1861.000</td>\n",
       "      <td>0.000</td>\n",
       "      <td>0.000</td>\n",
       "      <td>0.000</td>\n",
       "      <td>0.000</td>\n",
       "      <td>0.000</td>\n",
       "      <td>12.000</td>\n",
       "      <td>2.000</td>\n",
       "      <td>10.000</td>\n",
       "      <td>0.000</td>\n",
       "      <td>3463321.000</td>\n",
       "    </tr>\n",
       "    <tr>\n",
       "      <th>1</th>\n",
       "      <td>Addison Town and Village</td>\n",
       "      <td>2577.000</td>\n",
       "      <td>3.000</td>\n",
       "      <td>0.000</td>\n",
       "      <td>0.000</td>\n",
       "      <td>0.000</td>\n",
       "      <td>3.000</td>\n",
       "      <td>24.000</td>\n",
       "      <td>3.000</td>\n",
       "      <td>20.000</td>\n",
       "      <td>1.000</td>\n",
       "      <td>6640929.000</td>\n",
       "    </tr>\n",
       "    <tr>\n",
       "      <th>2</th>\n",
       "      <td>Akron Village</td>\n",
       "      <td>2846.000</td>\n",
       "      <td>3.000</td>\n",
       "      <td>0.000</td>\n",
       "      <td>0.000</td>\n",
       "      <td>0.000</td>\n",
       "      <td>3.000</td>\n",
       "      <td>16.000</td>\n",
       "      <td>1.000</td>\n",
       "      <td>15.000</td>\n",
       "      <td>0.000</td>\n",
       "      <td>8099716.000</td>\n",
       "    </tr>\n",
       "    <tr>\n",
       "      <th>3</th>\n",
       "      <td>Albany</td>\n",
       "      <td>97956.000</td>\n",
       "      <td>791.000</td>\n",
       "      <td>8.000</td>\n",
       "      <td>30.000</td>\n",
       "      <td>227.000</td>\n",
       "      <td>526.000</td>\n",
       "      <td>4090.000</td>\n",
       "      <td>705.000</td>\n",
       "      <td>3243.000</td>\n",
       "      <td>142.000</td>\n",
       "      <td>9595377936.000</td>\n",
       "    </tr>\n",
       "    <tr>\n",
       "      <th>4</th>\n",
       "      <td>Albion Village</td>\n",
       "      <td>6388.000</td>\n",
       "      <td>23.000</td>\n",
       "      <td>0.000</td>\n",
       "      <td>3.000</td>\n",
       "      <td>4.000</td>\n",
       "      <td>16.000</td>\n",
       "      <td>223.000</td>\n",
       "      <td>53.000</td>\n",
       "      <td>165.000</td>\n",
       "      <td>5.000</td>\n",
       "      <td>40806544.000</td>\n",
       "    </tr>\n",
       "  </tbody>\n",
       "</table>\n",
       "</div>"
      ],
      "text/plain": [
       "                       city       pop      vc  murder  rape2  robbery      aa  \\\n",
       "0             Adams Village  1861.000   0.000   0.000  0.000    0.000   0.000   \n",
       "1  Addison Town and Village  2577.000   3.000   0.000  0.000    0.000   3.000   \n",
       "2             Akron Village  2846.000   3.000   0.000  0.000    0.000   3.000   \n",
       "3                    Albany 97956.000 791.000   8.000 30.000  227.000 526.000   \n",
       "4            Albion Village  6388.000  23.000   0.000  3.000    4.000  16.000   \n",
       "\n",
       "        pc  burglary       lt     mvt           pop2  \n",
       "0   12.000     2.000   10.000   0.000    3463321.000  \n",
       "1   24.000     3.000   20.000   1.000    6640929.000  \n",
       "2   16.000     1.000   15.000   0.000    8099716.000  \n",
       "3 4090.000   705.000 3243.000 142.000 9595377936.000  \n",
       "4  223.000    53.000  165.000   5.000   40806544.000  "
      ]
     },
     "execution_count": 25,
     "metadata": {},
     "output_type": "execute_result"
    }
   ],
   "source": [
    "df_ny_all.head()"
   ]
  },
  {
   "cell_type": "code",
   "execution_count": 26,
   "metadata": {},
   "outputs": [
    {
     "data": {
      "text/html": [
       "<div>\n",
       "<style scoped>\n",
       "    .dataframe tbody tr th:only-of-type {\n",
       "        vertical-align: middle;\n",
       "    }\n",
       "\n",
       "    .dataframe tbody tr th {\n",
       "        vertical-align: top;\n",
       "    }\n",
       "\n",
       "    .dataframe thead th {\n",
       "        text-align: right;\n",
       "    }\n",
       "</style>\n",
       "<table border=\"1\" class=\"dataframe\">\n",
       "  <thead>\n",
       "    <tr style=\"text-align: right;\">\n",
       "      <th></th>\n",
       "      <th>city</th>\n",
       "      <th>pop</th>\n",
       "      <th>murder</th>\n",
       "      <th>robbery</th>\n",
       "      <th>aa</th>\n",
       "      <th>pc</th>\n",
       "      <th>burglary</th>\n",
       "    </tr>\n",
       "  </thead>\n",
       "  <tbody>\n",
       "    <tr>\n",
       "      <th>0</th>\n",
       "      <td>Adams Village</td>\n",
       "      <td>1861</td>\n",
       "      <td>0</td>\n",
       "      <td>0</td>\n",
       "      <td>0</td>\n",
       "      <td>12</td>\n",
       "      <td>2</td>\n",
       "    </tr>\n",
       "    <tr>\n",
       "      <th>1</th>\n",
       "      <td>Addison Town and Village</td>\n",
       "      <td>2577</td>\n",
       "      <td>0</td>\n",
       "      <td>0</td>\n",
       "      <td>3</td>\n",
       "      <td>24</td>\n",
       "      <td>3</td>\n",
       "    </tr>\n",
       "    <tr>\n",
       "      <th>2</th>\n",
       "      <td>Akron Village</td>\n",
       "      <td>2846</td>\n",
       "      <td>0</td>\n",
       "      <td>0</td>\n",
       "      <td>3</td>\n",
       "      <td>16</td>\n",
       "      <td>1</td>\n",
       "    </tr>\n",
       "    <tr>\n",
       "      <th>3</th>\n",
       "      <td>Albany</td>\n",
       "      <td>97956</td>\n",
       "      <td>8</td>\n",
       "      <td>227</td>\n",
       "      <td>526</td>\n",
       "      <td>4090</td>\n",
       "      <td>705</td>\n",
       "    </tr>\n",
       "    <tr>\n",
       "      <th>4</th>\n",
       "      <td>Albion Village</td>\n",
       "      <td>6388</td>\n",
       "      <td>0</td>\n",
       "      <td>4</td>\n",
       "      <td>16</td>\n",
       "      <td>223</td>\n",
       "      <td>53</td>\n",
       "    </tr>\n",
       "  </tbody>\n",
       "</table>\n",
       "</div>"
      ],
      "text/plain": [
       "                       city    pop murder robbery   aa    pc burglary\n",
       "0             Adams Village   1861      0       0    0    12        2\n",
       "1  Addison Town and Village   2577      0       0    3    24        3\n",
       "2             Akron Village   2846      0       0    3    16        1\n",
       "3                    Albany  97956      8     227  526  4090      705\n",
       "4            Albion Village   6388      0       4   16   223       53"
      ]
     },
     "execution_count": 26,
     "metadata": {},
     "output_type": "execute_result"
    }
   ],
   "source": [
    "df_ny_some.head()"
   ]
  },
  {
   "cell_type": "code",
   "execution_count": 27,
   "metadata": {},
   "outputs": [
    {
     "name": "stderr",
     "output_type": "stream",
     "text": [
      "C:\\Users\\PAULOF~1\\AppData\\Local\\Temp/ipykernel_12172/4197353811.py:3: DeprecationWarning: `np.float` is a deprecated alias for the builtin `float`. To silence this warning, use `float` by itself. Doing this will not modify any behavior and is safe. If you specifically wanted the numpy scalar type, use `np.float64` here.\n",
      "Deprecated in NumPy 1.20; for more details and guidance: https://numpy.org/devdocs/release/1.20.0-notes.html#deprecations\n",
      "  df_ny_some[\"pop\"] = [np.float(x) for x in df_ny_some[\"pop\"]]\n",
      "C:\\Users\\PAULOF~1\\AppData\\Local\\Temp/ipykernel_12172/4197353811.py:4: DeprecationWarning: `np.float` is a deprecated alias for the builtin `float`. To silence this warning, use `float` by itself. Doing this will not modify any behavior and is safe. If you specifically wanted the numpy scalar type, use `np.float64` here.\n",
      "Deprecated in NumPy 1.20; for more details and guidance: https://numpy.org/devdocs/release/1.20.0-notes.html#deprecations\n",
      "  df_ny_some[\"pop2\"] = [np.float(x*x) for x in df_ny_some[\"pop\"]]\n",
      "C:\\Users\\PAULOF~1\\AppData\\Local\\Temp/ipykernel_12172/4197353811.py:5: DeprecationWarning: `np.float` is a deprecated alias for the builtin `float`. To silence this warning, use `float` by itself. Doing this will not modify any behavior and is safe. If you specifically wanted the numpy scalar type, use `np.float64` here.\n",
      "Deprecated in NumPy 1.20; for more details and guidance: https://numpy.org/devdocs/release/1.20.0-notes.html#deprecations\n",
      "  df_ny_some[\"murder\"] = [np.float(x) for x in df_ny_some[\"murder\"]]\n",
      "C:\\Users\\PAULOF~1\\AppData\\Local\\Temp/ipykernel_12172/4197353811.py:6: DeprecationWarning: `np.float` is a deprecated alias for the builtin `float`. To silence this warning, use `float` by itself. Doing this will not modify any behavior and is safe. If you specifically wanted the numpy scalar type, use `np.float64` here.\n",
      "Deprecated in NumPy 1.20; for more details and guidance: https://numpy.org/devdocs/release/1.20.0-notes.html#deprecations\n",
      "  df_ny_some[\"robbery\"] = [np.float(x) for x in df_ny_some[\"robbery\"]]\n",
      "C:\\Users\\PAULOF~1\\AppData\\Local\\Temp/ipykernel_12172/4197353811.py:7: DeprecationWarning: `np.float` is a deprecated alias for the builtin `float`. To silence this warning, use `float` by itself. Doing this will not modify any behavior and is safe. If you specifically wanted the numpy scalar type, use `np.float64` here.\n",
      "Deprecated in NumPy 1.20; for more details and guidance: https://numpy.org/devdocs/release/1.20.0-notes.html#deprecations\n",
      "  df_ny_some[\"aa\"] = [np.float(x) for x in df_ny_some[\"aa\"]]\n",
      "C:\\Users\\PAULOF~1\\AppData\\Local\\Temp/ipykernel_12172/4197353811.py:8: DeprecationWarning: `np.float` is a deprecated alias for the builtin `float`. To silence this warning, use `float` by itself. Doing this will not modify any behavior and is safe. If you specifically wanted the numpy scalar type, use `np.float64` here.\n",
      "Deprecated in NumPy 1.20; for more details and guidance: https://numpy.org/devdocs/release/1.20.0-notes.html#deprecations\n",
      "  df_ny_some[\"pc\"] = [np.float(x) for x in df_ny_some[\"pc\"]]\n",
      "C:\\Users\\PAULOF~1\\AppData\\Local\\Temp/ipykernel_12172/4197353811.py:9: DeprecationWarning: `np.float` is a deprecated alias for the builtin `float`. To silence this warning, use `float` by itself. Doing this will not modify any behavior and is safe. If you specifically wanted the numpy scalar type, use `np.float64` here.\n",
      "Deprecated in NumPy 1.20; for more details and guidance: https://numpy.org/devdocs/release/1.20.0-notes.html#deprecations\n",
      "  df_ny_some[\"burglary\"] = [np.float(x) for x in df_ny_some[\"burglary\"]]\n"
     ]
    }
   ],
   "source": [
    "#convertendo valores de string para float e criando coluna 'pop2' que é pop ao quadrado\n",
    "\n",
    "df_ny_some[\"pop\"] = [np.float(x) for x in df_ny_some[\"pop\"]]\n",
    "df_ny_some[\"pop2\"] = [np.float(x*x) for x in df_ny_some[\"pop\"]]\n",
    "df_ny_some[\"murder\"] = [np.float(x) for x in df_ny_some[\"murder\"]]\n",
    "df_ny_some[\"robbery\"] = [np.float(x) for x in df_ny_some[\"robbery\"]]\n",
    "df_ny_some[\"aa\"] = [np.float(x) for x in df_ny_some[\"aa\"]]\n",
    "df_ny_some[\"pc\"] = [np.float(x) for x in df_ny_some[\"pc\"]]\n",
    "df_ny_some[\"burglary\"] = [np.float(x) for x in df_ny_some[\"burglary\"]]\n"
   ]
  },
  {
   "cell_type": "code",
   "execution_count": 28,
   "metadata": {},
   "outputs": [
    {
     "data": {
      "text/html": [
       "<div>\n",
       "<style scoped>\n",
       "    .dataframe tbody tr th:only-of-type {\n",
       "        vertical-align: middle;\n",
       "    }\n",
       "\n",
       "    .dataframe tbody tr th {\n",
       "        vertical-align: top;\n",
       "    }\n",
       "\n",
       "    .dataframe thead th {\n",
       "        text-align: right;\n",
       "    }\n",
       "</style>\n",
       "<table border=\"1\" class=\"dataframe\">\n",
       "  <thead>\n",
       "    <tr style=\"text-align: right;\">\n",
       "      <th></th>\n",
       "      <th>city</th>\n",
       "      <th>pop</th>\n",
       "      <th>murder</th>\n",
       "      <th>robbery</th>\n",
       "      <th>aa</th>\n",
       "      <th>pc</th>\n",
       "      <th>burglary</th>\n",
       "      <th>pop2</th>\n",
       "    </tr>\n",
       "  </thead>\n",
       "  <tbody>\n",
       "    <tr>\n",
       "      <th>0</th>\n",
       "      <td>Adams Village</td>\n",
       "      <td>1861.000</td>\n",
       "      <td>0.000</td>\n",
       "      <td>0.000</td>\n",
       "      <td>0.000</td>\n",
       "      <td>12.000</td>\n",
       "      <td>2.000</td>\n",
       "      <td>3463321.000</td>\n",
       "    </tr>\n",
       "    <tr>\n",
       "      <th>1</th>\n",
       "      <td>Addison Town and Village</td>\n",
       "      <td>2577.000</td>\n",
       "      <td>0.000</td>\n",
       "      <td>0.000</td>\n",
       "      <td>3.000</td>\n",
       "      <td>24.000</td>\n",
       "      <td>3.000</td>\n",
       "      <td>6640929.000</td>\n",
       "    </tr>\n",
       "    <tr>\n",
       "      <th>2</th>\n",
       "      <td>Akron Village</td>\n",
       "      <td>2846.000</td>\n",
       "      <td>0.000</td>\n",
       "      <td>0.000</td>\n",
       "      <td>3.000</td>\n",
       "      <td>16.000</td>\n",
       "      <td>1.000</td>\n",
       "      <td>8099716.000</td>\n",
       "    </tr>\n",
       "    <tr>\n",
       "      <th>3</th>\n",
       "      <td>Albany</td>\n",
       "      <td>97956.000</td>\n",
       "      <td>8.000</td>\n",
       "      <td>227.000</td>\n",
       "      <td>526.000</td>\n",
       "      <td>4090.000</td>\n",
       "      <td>705.000</td>\n",
       "      <td>9595377936.000</td>\n",
       "    </tr>\n",
       "    <tr>\n",
       "      <th>4</th>\n",
       "      <td>Albion Village</td>\n",
       "      <td>6388.000</td>\n",
       "      <td>0.000</td>\n",
       "      <td>4.000</td>\n",
       "      <td>16.000</td>\n",
       "      <td>223.000</td>\n",
       "      <td>53.000</td>\n",
       "      <td>40806544.000</td>\n",
       "    </tr>\n",
       "  </tbody>\n",
       "</table>\n",
       "</div>"
      ],
      "text/plain": [
       "                       city       pop  murder  robbery      aa       pc  \\\n",
       "0             Adams Village  1861.000   0.000    0.000   0.000   12.000   \n",
       "1  Addison Town and Village  2577.000   0.000    0.000   3.000   24.000   \n",
       "2             Akron Village  2846.000   0.000    0.000   3.000   16.000   \n",
       "3                    Albany 97956.000   8.000  227.000 526.000 4090.000   \n",
       "4            Albion Village  6388.000   0.000    4.000  16.000  223.000   \n",
       "\n",
       "   burglary           pop2  \n",
       "0     2.000    3463321.000  \n",
       "1     3.000    6640929.000  \n",
       "2     1.000    8099716.000  \n",
       "3   705.000 9595377936.000  \n",
       "4    53.000   40806544.000  "
      ]
     },
     "execution_count": 28,
     "metadata": {},
     "output_type": "execute_result"
    }
   ],
   "source": [
    "df_ny_some.head()"
   ]
  },
  {
   "cell_type": "code",
   "execution_count": 29,
   "metadata": {},
   "outputs": [
    {
     "data": {
      "text/plain": [
       "city         object\n",
       "pop         float64\n",
       "murder      float64\n",
       "robbery     float64\n",
       "aa          float64\n",
       "pc          float64\n",
       "burglary    float64\n",
       "pop2        float64\n",
       "dtype: object"
      ]
     },
     "execution_count": 29,
     "metadata": {},
     "output_type": "execute_result"
    }
   ],
   "source": [
    "df_ny_some.dtypes"
   ]
  },
  {
   "cell_type": "code",
   "execution_count": 30,
   "metadata": {},
   "outputs": [
    {
     "data": {
      "text/plain": [
       "<seaborn.axisgrid.PairGrid at 0x1c4dccc1f10>"
      ]
     },
     "execution_count": 30,
     "metadata": {},
     "output_type": "execute_result"
    },
    {
     "data": {
      "image/png": "[encoded data removed]",
      "text/plain": [
       "<Figure size 1260x1260 with 56 Axes>"
      ]
     },
     "metadata": {
      "needs_background": "light"
     },
     "output_type": "display_data"
    }
   ],
   "source": [
    "sns.pairplot(df_ny_some)"
   ]
  },
  {
   "cell_type": "markdown",
   "metadata": {},
   "source": [
    "The above pairplot still includes NYC data which is not very helpful; it's too much of an outlier.  We have to drop NYC data.  Some features were dropped in order to read the pairplot better in accordance with the heatmap results."
   ]
  },
  {
   "cell_type": "code",
   "execution_count": 205,
   "metadata": {},
   "outputs": [],
   "source": [
    "# deletando nyc data\n",
    "df_ny_some_no_nyc = df_ny_some.drop([216])"
   ]
  },
  {
   "cell_type": "code",
   "execution_count": 207,
   "metadata": {},
   "outputs": [
    {
     "data": {
      "text/plain": [
       "<seaborn.axisgrid.PairGrid at 0x1aea0050>"
      ]
     },
     "execution_count": 207,
     "metadata": {},
     "output_type": "execute_result"
    },
    {
     "data": {
      "image/png": "[encoded data removed]",
      "text/plain": [
       "<Figure size 1260x1260 with 56 Axes>"
      ]
     },
     "metadata": {
      "needs_background": "light"
     },
     "output_type": "display_data"
    }
   ],
   "source": [
    "sns.pairplot(df_ny_some_no_nyc)"
   ]
  },
  {
   "cell_type": "markdown",
   "metadata": {},
   "source": [
    "Construindo o nosso modelo"
   ]
  },
  {
   "cell_type": "markdown",
   "metadata": {},
   "source": [
    "Sem fazer nada com os dados originais (dados com NYC), construa uma equação de regressão multivariável usando 'pop', 'assassinato' e 'roubo' para os recursos, ou variáveis independentes, para prever o crime contra a propriedade ('pc')."
   ]
  },
  {
   "cell_type": "code",
   "execution_count": 31,
   "metadata": {},
   "outputs": [
    {
     "name": "stdout",
     "output_type": "stream",
     "text": [
      "\n",
      "Coefficients: \n",
      " [[1.68728222e-02 6.07383740e+02 1.06994709e+02]]\n",
      "\n",
      "Intercept: \n",
      " [-32.72226824]\n",
      "\n",
      "R-squared:\n",
      "0.9934485435725701\n"
     ]
    }
   ],
   "source": [
    "# Instanciando e treinando nosso modelo\n",
    "regr = linear_model.LinearRegression()\n",
    "Y = df_ny['pc'].values.reshape(-1, 1)\n",
    "X = df_ny[['pop', 'murder', 'robbery']]\n",
    "regr.fit(X, Y)\n",
    "\n",
    "# Vendo os resultados\n",
    "print('\\nCoefficients: \\n', regr.coef_)\n",
    "print('\\nIntercept: \\n', regr.intercept_)\n",
    "print('\\nR-squared:')\n",
    "print(regr.score(X, Y))"
   ]
  },
  {
   "cell_type": "markdown",
   "metadata": {},
   "source": [
    "Então a equação seria: y = -32,7 + 0,017(pop) + 607(assassinato) + 107(roubo)\n",
    "\n",
    "O valor de R ao quadrado é muito próximo de 1, o que pode significar que provavelmente superajustamos os dados.\n",
    "\n",
    "Além disso, a população da cidade em questão precisa ser de pelo menos 1.924, caso contrário, o modelo preverá um valor negativo para ocorrências de crimes contra a propriedade, o que é impossível"
   ]
  },
  {
   "cell_type": "markdown",
   "metadata": {},
   "source": [
    "Agora, vamos construir um modelo que exclua NYC."
   ]
  },
  {
   "cell_type": "code",
   "execution_count": 32,
   "metadata": {},
   "outputs": [
    {
     "name": "stdout",
     "output_type": "stream",
     "text": [
      "\n",
      "Coefficients: \n",
      " [ 3.43860764e-02  1.43473775e+01 -9.42521334e+01]\n",
      "\n",
      "Intercept: \n",
      " -108.42335403478944\n",
      "\n",
      "R-squared:\n",
      "0.7889428000907828\n"
     ]
    }
   ],
   "source": [
    "# Instanciando e treinando nosso modelo\n",
    "regr = linear_model.LinearRegression()\n",
    "Y = df_no_nyc['pc']\n",
    "X = df_no_nyc[['pop','murder','robbery']]\n",
    "regr.fit(X, Y)\n",
    "\n",
    "# Vendo os resultados\n",
    "print('\\nCoefficients: \\n', regr.coef_)\n",
    "print('\\nIntercept: \\n', regr.intercept_)\n",
    "print('\\nR-squared:')\n",
    "print(regr.score(X, Y))"
   ]
  },
  {
   "cell_type": "markdown",
   "metadata": {},
   "source": [
    "Agora, a equação se parece com: y = -108 + 0,034(pop) + 14,3(assassinato) - 94,3(roubo)\n",
    "\n",
    "O novo valor de R ao quadrado é: 0,79\n",
    "\n",
    "Isso é provavelmente mais desejável e um modelo melhor e uma boa equação de linha de base para construir. Devemos estar cientes de que a população precisa ser de pelo menos 3177, caso contrário, o crime patrimonial é negativo, o que é impossível."
   ]
  },
  {
   "cell_type": "markdown",
   "metadata": {},
   "source": [
    "Como próximo passo, vamos apenas construir um modelo simples que usa apenas o recurso de população para prever crimes contra a propriedade com e sem dados de Nova York. Primeiro, vamos construí-lo com os dados de NYC incluídos."
   ]
  },
  {
   "cell_type": "code",
   "execution_count": 33,
   "metadata": {},
   "outputs": [
    {
     "name": "stdout",
     "output_type": "stream",
     "text": [
      "Coefficients: \n",
      " [[0.01695663]]\n",
      "Intercept: \n",
      " [113.70298213]\n"
     ]
    },
    {
     "data": {
      "image/png": "[encoded data removed]",
      "text/plain": [
       "<Figure size 432x288 with 1 Axes>"
      ]
     },
     "metadata": {
      "needs_background": "light"
     },
     "output_type": "display_data"
    }
   ],
   "source": [
    "y = df_ny['pc'].values.reshape(-1, 1)\n",
    "x = df_ny['pop'].values.reshape(-1, 1)\n",
    "\n",
    "# Instanciando e treinando nosso modelo\n",
    "regr = linear_model.LinearRegression()\n",
    "\n",
    "# Ajustar nosso modelo aos nossos dados\n",
    "regr.fit(x, y)\n",
    "\n",
    "# Mostra os atributos que calculamos\n",
    "print('Coefficients: \\n', regr.coef_)\n",
    "print('Intercept: \\n', regr.intercept_)\n",
    "\n",
    "# Plotando os resultados\n",
    "plt.scatter(x, y, color='black')\n",
    "plt.plot(x, regr.predict(x), color='blue', linewidth=3)\n",
    "plt.title('Populaçao vs Crimes contra propriedade')\n",
    "plt.xlabel('Populaçao')\n",
    "plt.ylabel('Crimes contra propriedade')\n",
    "plt.show()"
   ]
  },
  {
   "cell_type": "markdown",
   "metadata": {},
   "source": [
    "Portanto, a equação simples seria: **y = 113,7 + 0,017(pop)**\n",
    "\n",
    "Isso pode não ser tão ruim. Como você pode ver, não há valores de população (assumindo que seja pelo menos 0) onde o crime contra a propriedade seria previsto como um número negativo. Em seguida, vamos construir o modelo de regressão linear simples excluindo os dados de NYC."
   ]
  },
  {
   "cell_type": "code",
   "execution_count": 34,
   "metadata": {},
   "outputs": [
    {
     "name": "stdout",
     "output_type": "stream",
     "text": [
      "Coefficients: \n",
      " [[0.03389004]]\n",
      "Intercept: \n",
      " [-155.02048926]\n"
     ]
    },
    {
     "data": {
      "image/png": "[encoded data removed]",
      "text/plain": [
       "<Figure size 432x288 with 1 Axes>"
      ]
     },
     "metadata": {
      "needs_background": "light"
     },
     "output_type": "display_data"
    }
   ],
   "source": [
    "y = df_no_nyc['pc'].values.reshape(-1, 1)\n",
    "x = df_no_nyc['pop'].values.reshape(-1, 1)\n",
    "\n",
    "# Instanciando nosso modelo\n",
    "regr = linear_model.LinearRegression()\n",
    "\n",
    "# Ajustar nosso modelo aos nossos dados\n",
    "regr.fit(x, y)\n",
    "\n",
    "# Mostra os atributos que calculamos\n",
    "print('Coefficients: \\n', regr.coef_)\n",
    "print('Intercept: \\n', regr.intercept_)\n",
    "\n",
    "# Plotando os resultados\n",
    "plt.scatter(x, y, color='black')\n",
    "plt.plot(x, regr.predict(x), color='blue', linewidth=3)\n",
    "plt.title('Populaçao vs Crimes contra propriedade')\n",
    "plt.xlabel('Populaçao')\n",
    "plt.ylabel('Crimes contra propriedade')\n",
    "plt.show()"
   ]
  },
  {
   "cell_type": "markdown",
   "metadata": {},
   "source": [
    "Portanto, a nova equação, excluindo os dados de Nova York, seria: y = -155 + 0,034(pop)\n",
    "\n",
    "A população, neste caso, deve ser de pelo menos 4559 para gerar uma previsão positiva de crimes contra a propriedade.\n"
   ]
  },
  {
   "cell_type": "markdown",
   "metadata": {},
   "source": [
    "Avaliando o modelo\n",
    "\n",
    "O erro de um modelo multivariável (calculado pela subtração dos valores previstos pelo modelo dos valores reais do resultado) deve ser distribuído normalmente. Vamos verificar se esse é o caso de nossos 2 modelos, nos quais usamos 3 recursos para prever o resultado. Primeiro, verificaremos o modelo com os dados de NYC incluídos."
   ]
  },
  {
   "cell_type": "code",
   "execution_count": 36,
   "metadata": {},
   "outputs": [
    {
     "name": "stdout",
     "output_type": "stream",
     "text": [
      "\n",
      "Coefficients: \n",
      " [[1.68728222e-02 6.07383740e+02 1.06994709e+02]]\n",
      "\n",
      "Intercept: \n",
      " [-32.72226824]\n",
      "\n",
      "R-squared:\n",
      "0.9934485435725701\n"
     ]
    },
    {
     "data": {
      "image/png": "[encoded data removed]",
      "text/plain": [
       "<Figure size 432x288 with 1 Axes>"
      ]
     },
     "metadata": {
      "needs_background": "light"
     },
     "output_type": "display_data"
    }
   ],
   "source": [
    "# Instanciando nosso modelo\n",
    "regr = linear_model.LinearRegression()\n",
    "Y = df_ny['pc'].values.reshape(-1, 1)\n",
    "X = df_ny[['pop', 'murder', 'robbery']]\n",
    "regr.fit(X, Y)\n",
    "\n",
    "# Olhando os resultados\n",
    "print('\\nCoefficients: \\n', regr.coef_)\n",
    "print('\\nIntercept: \\n', regr.intercept_)\n",
    "print('\\nR-squared:')\n",
    "print(regr.score(X, Y))\n",
    "\n",
    "# Extraindo os valores previstos\n",
    "predicted = regr.predict(X).ravel()\n",
    "actual = df_ny['pc']\n",
    "\n",
    "# Calcule o erro, também chamado de residual\n",
    "residual = actual - predicted\n",
    "\n",
    "# Criando o histograma.\n",
    "plt.hist(residual)\n",
    "plt.title('Contagens Residuais')\n",
    "plt.xlabel('Residuosl')\n",
    "plt.ylabel('Contagem')\n",
    "plt.show()"
   ]
  },
  {
   "cell_type": "markdown",
   "metadata": {},
   "source": [
    "Aqui podemos ver que os dados residuais são distribuídos normalmente; no entanto, é ligeiramente inclinado para a direita. Em seguida, vamos ver a distribuição residual após descartar os dados de NYC."
   ]
  },
  {
   "cell_type": "code",
   "execution_count": 37,
   "metadata": {},
   "outputs": [
    {
     "name": "stdout",
     "output_type": "stream",
     "text": [
      "\n",
      "Coefficients: \n",
      " [[ 3.43860764e-02  1.43473775e+01 -9.42521334e+01]]\n",
      "\n",
      "Intercept: \n",
      " [-108.42335403]\n",
      "\n",
      "R-squared:\n",
      "0.7889428000907828\n"
     ]
    },
    {
     "data": {
      "image/png": "[encoded data removed]",
      "text/plain": [
       "<Figure size 432x288 with 1 Axes>"
      ]
     },
     "metadata": {
      "needs_background": "light"
     },
     "output_type": "display_data"
    }
   ],
   "source": [
    "# Instanciando nosso modelo\n",
    "regr = linear_model.LinearRegression()\n",
    "Y = df_no_nyc['pc'].values.reshape(-1, 1)\n",
    "X = df_no_nyc[['pop', 'murder', 'robbery']]\n",
    "regr.fit(X, Y)\n",
    "\n",
    "# Olhando os resultados\n",
    "print('\\nCoefficients: \\n', regr.coef_)\n",
    "print('\\nIntercept: \\n', regr.intercept_)\n",
    "print('\\nR-squared:')\n",
    "print(regr.score(X, Y))\n",
    "\n",
    "# Extraindo os valores previstos\n",
    "predicted = regr.predict(X).ravel()\n",
    "actual = df_no_nyc['pc']\n",
    "\n",
    "# Calcule o erro, também chamado de residual\n",
    "residual = actual - predicted\n",
    "\n",
    "# Criando o histograma.\n",
    "plt.hist(residual)\n",
    "plt.title('Contagens Residuais')\n",
    "plt.xlabel('Residuosl')\n",
    "plt.ylabel('Contagem')\n",
    "plt.show()"
   ]
  },
  {
   "cell_type": "markdown",
   "metadata": {},
   "source": [
    "Isso é muito, muito melhor. É mais normalmente distribuído e, portanto, muito mais útil para fins de previsão.\n",
    "\n",
    "Como último passo, vejamos os gráficos de dispersão dos dados com NYC e sem NYC."
   ]
  },
  {
   "cell_type": "code",
   "execution_count": 39,
   "metadata": {},
   "outputs": [
    {
     "name": "stdout",
     "output_type": "stream",
     "text": [
      "\n",
      "Coefficients: \n",
      " [[1.68728222e-02 6.07383740e+02 1.06994709e+02]]\n",
      "\n",
      "Intercept: \n",
      " [-32.72226824]\n",
      "\n",
      "R-squared:\n",
      "0.9934485435725701\n"
     ]
    },
    {
     "data": {
      "image/png": "[encoded data removed]",
      "text/plain": [
       "<Figure size 432x288 with 1 Axes>"
      ]
     },
     "metadata": {
      "needs_background": "light"
     },
     "output_type": "display_data"
    }
   ],
   "source": [
    "# Instanciando nosso modelo\n",
    "regr = linear_model.LinearRegression()\n",
    "Y = df_ny['pc'].values.reshape(-1, 1)\n",
    "X = df_ny[['pop', 'murder', 'robbery']]\n",
    "regr.fit(X, Y)\n",
    "\n",
    "# Olhando os resultados\n",
    "print('\\nCoefficients: \\n', regr.coef_)\n",
    "print('\\nIntercept: \\n', regr.intercept_)\n",
    "print('\\nR-squared:')\n",
    "print(regr.score(X, Y))\n",
    "\n",
    "# Extraindo os valores previstos\n",
    "predicted = regr.predict(X).ravel()\n",
    "actual = df_ny['pc']\n",
    "\n",
    "# Calcule o erro, também chamado de residual\n",
    "residual = actual - predicted\n",
    "\n",
    "# criando um  scatterplot\n",
    "plt.scatter(predicted, residual)\n",
    "plt.xlabel('Previsto')\n",
    "plt.ylabel('Residuos')\n",
    "plt.axhline(y=0)\n",
    "plt.title('Residual vs. Previsto')\n",
    "plt.show()"
   ]
  },
  {
   "cell_type": "markdown",
   "metadata": {},
   "source": [
    "Como esperado, temos um problema significativo de heteroscedasticidade. Os dados de Nova York são os culpados. Em seguida, vamos ver o gráfico sem os dados de NYC."
   ]
  },
  {
   "cell_type": "code",
   "execution_count": 40,
   "metadata": {
    "scrolled": true
   },
   "outputs": [
    {
     "name": "stdout",
     "output_type": "stream",
     "text": [
      "\n",
      "Coefficients: \n",
      " [[ 3.43860764e-02  1.43473775e+01 -9.42521334e+01]]\n",
      "\n",
      "Intercept: \n",
      " [-108.42335403]\n",
      "\n",
      "R-squared:\n",
      "0.7889428000907828\n"
     ]
    },
    {
     "data": {
      "image/png": "[encoded data removed]",
      "text/plain": [
       "<Figure size 432x288 with 1 Axes>"
      ]
     },
     "metadata": {
      "needs_background": "light"
     },
     "output_type": "display_data"
    }
   ],
   "source": [
    "# Instanciando nosso modelo\n",
    "regr = linear_model.LinearRegression()\n",
    "Y = df_no_nyc['pc'].values.reshape(-1, 1)\n",
    "X = df_no_nyc[['pop', 'murder', 'robbery']]\n",
    "regr.fit(X, Y)\n",
    "\n",
    "# Olhando os resultados\n",
    "print('\\nCoefficients: \\n', regr.coef_)\n",
    "print('\\nIntercept: \\n', regr.intercept_)\n",
    "print('\\nR-squared:')\n",
    "print(regr.score(X, Y))\n",
    "\n",
    "# Extraindo os valores previstos\n",
    "predicted = regr.predict(X).ravel()\n",
    "actual = df_no_nyc['pc']\n",
    "\n",
    "# Calcule o erro, também chamado de residual\n",
    "residual = actual - predicted\n",
    "\n",
    "# criando um scatterplot\n",
    "plt.scatter(predicted, residual)\n",
    "plt.xlabel('Previsto')\n",
    "plt.ylabel('Residuos')\n",
    "plt.axhline(y=0)\n",
    "plt.title('Residual vs. Previsto')\n",
    "plt.show()"
   ]
  },
  {
   "cell_type": "markdown",
   "metadata": {},
   "source": [
    "Isso é muito mais homoscedástico. No entanto, é um pouco em forma de cone à medida que os valores previstos se tornam maiores, então pode valer a pena procurar maneiras de reduzir isso para pesquisas futuras."
   ]
  },
  {
   "cell_type": "markdown",
   "metadata": {},
   "source": [
    "Conclusao"
   ]
  },
  {
   "cell_type": "markdown",
   "metadata": {},
   "source": [
    "A principal descoberta deste estudo para prever crimes contra a propriedade com as entradas de população, assassinato e roubo é que o outlier - neste caso NYC - superajusta significativamente o modelo e reduz significativamente a eficácia deste modelo se o usarmos para prever propriedades criminalidade em outros estados. A solução óbvia seria remover os dados de NYC, o que fizemos, a fim de construir um modelo mais robusto e versátil para previsões futuras.\n",
    "\n",
    "Às vezes, um modelo muito simples com apenas uma variável de entrada pode ser melhor do que usar várias entradas. Mostramos que simplesmente usar a população como uma única entrada pode produzir um modelo inicialmente eficaz, mas aqui, novamente, provavelmente é sensato omitir os dados de Nova York porque eles sobrecarregam todos os outros dados.\n",
    "\n",
    "É importante conhecer os objetivos e usos futuros do modelo e neste exercício não recebemos essas explicações. Para a futura construção e validação do modelo, precisamos considerar o propósito do modelo para testar os resultados/previsões de forma mais eficaz.\n"
   ]
  },
  {
   "cell_type": "code",
   "execution_count": null,
   "metadata": {},
   "outputs": [],
   "source": []
  }
 ],
 "metadata": {
  "kernelspec": {
   "display_name": "Python 3 (ipykernel)",
   "language": "python",
   "name": "python3"
  },
  "language_info": {
   "codemirror_mode": {
    "name": "ipython",
    "version": 3
   },
   "file_extension": ".py",
   "mimetype": "text/x-python",
   "name": "python",
   "nbconvert_exporter": "python",
   "pygments_lexer": "ipython3",
   "version": "3.9.7"
  }
 },
 "nbformat": 4,
 "nbformat_minor": 2
}
